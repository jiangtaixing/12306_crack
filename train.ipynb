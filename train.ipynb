{
 "cells": [
  {
   "cell_type": "code",
   "execution_count": 2,
   "metadata": {},
   "outputs": [
    {
     "name": "stderr",
     "output_type": "stream",
     "text": [
      "/usr/local/lib/python3.6/site-packages/h5py/__init__.py:36: FutureWarning: Conversion of the second argument of issubdtype from `float` to `np.floating` is deprecated. In future, it will be treated as `np.float64 == np.dtype(float).type`.\n",
      "  from ._conv import register_converters as _register_converters\n",
      "Using TensorFlow backend.\n"
     ]
    }
   ],
   "source": [
    "### import keras\n",
    "from keras.preprocessing.image import ImageDataGenerator\n",
    "from keras import layers\n",
    "from keras import models\n",
    "from keras import optimizers\n",
    "import matplotlib.pyplot as plt\n",
    "from keras.applications import VGG16"
   ]
  },
  {
   "cell_type": "code",
   "execution_count": 2,
   "metadata": {},
   "outputs": [],
   "source": [
    "train_folder = './train/'\n",
    "val_folder = './val/'\n",
    "test_folder = './test/'"
   ]
  },
  {
   "cell_type": "markdown",
   "metadata": {},
   "source": [
    "## 1. Keras 生成器\n",
    "当数据文件过大时，我们不能将数据直接全部加载到内存，这是需要Keras的**生成器**机制\n",
    "\n",
    "**生成器**的作用是在训练的过程中不停的给模型喂数据，同时保证内存中只保存少量的数据\n",
    "\n",
    "keras中使用**ImageDataGenerator**定义生成器的类\n",
    "\n",
    "```py\n",
    "keras.preprocessing.image.ImageDataGenerator(featurewise_center=False, \n",
    "                                             samplewise_center=False, \n",
    "                                             featurewise_std_normalization=False, \n",
    "                                             samplewise_std_normalization=False, \n",
    "                                             zca_whitening=False, \n",
    "                                             zca_epsilon=1e-06, \n",
    "                                             rotation_range=0.0, \n",
    "                                             width_shift_range=0.0, \n",
    "                                             height_shift_range=0.0, \n",
    "                                             brightness_range=None, \n",
    "                                             shear_range=0.0, \n",
    "                                             zoom_range=0.0, \n",
    "                                             channel_shift_range=0.0, \n",
    "                                             fill_mode='nearest', \n",
    "                                             cval=0.0, \n",
    "                                             horizontal_flip=False, \n",
    "                                             vertical_flip=False, \n",
    "                                             rescale=None, \n",
    "                                             preprocessing_function=None, \n",
    "                                             data_format=None, \n",
    "                                             validation_split=0.0)\n",
    "                                             \n",
    "```\n",
    "\n",
    "ImageDataGenerator里面的参数主要用于数据扩充（数据增强），之后会讲解数据增强的作用\n"
   ]
  },
  {
   "cell_type": "code",
   "execution_count": 3,
   "metadata": {},
   "outputs": [],
   "source": [
    "train_data_gen = ImageDataGenerator(rescale=1./255)\n",
    "val_data_gen = ImageDataGenerator(rescale=1./255)\n",
    "test_data_gen = ImageDataGenerator(rescale=1./255)"
   ]
  },
  {
   "cell_type": "markdown",
   "metadata": {},
   "source": [
    "### 1.1 flow_from_directory函数\n",
    "\n",
    "```py\n",
    "flow_from_directory(directory, \n",
    "            target_size=(256, 256), \n",
    "            color_mode='rgb',\n",
    "            classes=None,\n",
    "            class_mode='categorical', \n",
    "            batch_size=32, \n",
    "            shuffle=True, \n",
    "            seed=None, \n",
    "            save_to_dir=None, \n",
    "            save_prefix='', \n",
    "            save_format='png', \n",
    "            follow_links=False, \n",
    "            subset=None, \n",
    "            interpolation='nearest')\n",
    "```\n",
    "\n",
    "我们要使用的参数\n",
    "\n",
    "**batch_size**：取出每个batch中图片的个数，图片越少，计算越快，显存消耗越低，但是模型训练过程容易不稳定。常见的策略是从2^n中选择满足显存需求的最大的值\n",
    "\n",
    "**target_size**：batch中图像的尺寸，当前数据集不需要resize，直接选择输入图片的尺寸(66, 66)即可\n",
    "\n",
    "**class_mode**：默认是categorical，即当前数据是多累数据，如果实二分类，其值应该是‘binary’"
   ]
  },
  {
   "cell_type": "code",
   "execution_count": 6,
   "metadata": {},
   "outputs": [
    {
     "name": "stdout",
     "output_type": "stream",
     "text": [
      "Found 8594 images belonging to 80 classes.\n",
      "Found 1600 images belonging to 80 classes.\n",
      "Found 1600 images belonging to 80 classes.\n"
     ]
    }
   ],
   "source": [
    "train_generator = train_data_gen.flow_from_directory(train_folder, \n",
    "                                                     target_size=(66, 66), \n",
    "                                                     batch_size=128, \n",
    "                                                     class_mode='categorical')\n",
    "val_generator = val_data_gen.flow_from_directory(val_folder, \n",
    "                                                     target_size=(66, 66), \n",
    "                                                     batch_size=128, \n",
    "                                                     class_mode='categorical')\n",
    "test_generator = test_data_gen.flow_from_directory(test_folder, \n",
    "                                                     target_size=(66, 66), \n",
    "                                                     batch_size=128, \n",
    "                                                     class_mode='categorical')"
   ]
  },
  {
   "cell_type": "markdown",
   "metadata": {},
   "source": [
    "## 模型搭建\n",
    "\n",
    "自创模型：\n",
    "\n",
    "1. 堆积卷积操作（Conv2D）和最大池化操作（MaxPooling2D），第一层需要指定输入图像的尺寸和通道数\n",
    "2. Flatten()用于将Feature Map展开成特征向量\n",
    "3. 之后接全连接层和激活层，注意多分类应该使用softmax激活函数\n",
    "\n",
    "```py\n",
    "keras.layers.Conv2D(filters, \n",
    "            kernel_size, \n",
    "            strides=(1, 1), \n",
    "            padding='valid', \n",
    "            data_format=None, \n",
    "            dilation_rate=(1, 1), \n",
    "            activation=None, \n",
    "            use_bias=True, \n",
    "            kernel_initializer='glorot_uniform',\n",
    "            bias_initializer='zeros', \n",
    "            kernel_regularizer=None,\n",
    "            bias_regularizer=None, \n",
    "            activity_regularizer=None, \n",
    "            kernel_constraint=None, \n",
    "            bias_constraint=None)\n",
    "```\n",
    "\n",
    "```py\n",
    "keras.layers.MaxPooling2D(pool_size=(2, 2), \n",
    "            strides=None, \n",
    "            padding='valid', \n",
    "            data_format=None)\n",
    "```\n",
    "\n",
    "自行搭建网络的几个技巧\n",
    "\n",
    "1. 通道数的数量取2^n；\n",
    "2. 每次MaxPooling之后通道数*2；\n",
    "5. 最后一层Feature Map的尺寸不宜太大也不宜太小。\n",
    "3. 输出层和Flatten（）层往往需要加最少一个隐层用于过渡特征；\n",
    "4. 根据计算Flatten（）层的节点数量设计隐层节点的个数；\n",
    "\n",
    "\n",
    "或者使用经典模型：\n",
    "\n",
    "* LeNet\n",
    "* AlexNet\n",
    "* VGG-16/VGG-19\n",
    "* GoogLeNet\n",
    "* Residual Net\n",
    "* SENet\n",
    "* DenseNet\n",
    "\n",
    "选择模型的技巧：根据任务的复杂度选择最合适的模型，简单任务可以选择VGG等比较浅的网络，目前复杂任务主流的选择是比较深的Residual Net"
   ]
  },
  {
   "cell_type": "code",
   "execution_count": 7,
   "metadata": {},
   "outputs": [],
   "source": [
    "model_simple = models.Sequential()\n",
    "model_simple.add(layers.Conv2D(32, (3,3), padding='same', activation='relu', input_shape = (66,66,3)))\n",
    "model_simple.add(layers.MaxPooling2D((2,2)))\n",
    "model_simple.add(layers.Conv2D(64, (3,3), padding='same', activation='relu'))\n",
    "model_simple.add(layers.MaxPooling2D((2,2)))\n",
    "model_simple.add(layers.Conv2D(128, (3,3), padding='same', activation='relu'))\n",
    "model_simple.add(layers.MaxPooling2D((2,2)))\n",
    "model_simple.add(layers.Flatten())\n",
    "model_simple.add(layers.Dense(1024, activation='relu'))\n",
    "model_simple.add(layers.Dense(80, activation='softmax'))"
   ]
  },
  {
   "cell_type": "code",
   "execution_count": 8,
   "metadata": {},
   "outputs": [
    {
     "name": "stdout",
     "output_type": "stream",
     "text": [
      "_________________________________________________________________\n",
      "Layer (type)                 Output Shape              Param #   \n",
      "=================================================================\n",
      "conv2d_1 (Conv2D)            (None, 66, 66, 32)        896       \n",
      "_________________________________________________________________\n",
      "max_pooling2d_1 (MaxPooling2 (None, 33, 33, 32)        0         \n",
      "_________________________________________________________________\n",
      "conv2d_2 (Conv2D)            (None, 33, 33, 64)        18496     \n",
      "_________________________________________________________________\n",
      "max_pooling2d_2 (MaxPooling2 (None, 16, 16, 64)        0         \n",
      "_________________________________________________________________\n",
      "conv2d_3 (Conv2D)            (None, 16, 16, 128)       73856     \n",
      "_________________________________________________________________\n",
      "max_pooling2d_3 (MaxPooling2 (None, 8, 8, 128)         0         \n",
      "_________________________________________________________________\n",
      "flatten_1 (Flatten)          (None, 8192)              0         \n",
      "_________________________________________________________________\n",
      "dense_1 (Dense)              (None, 1024)              8389632   \n",
      "_________________________________________________________________\n",
      "dense_2 (Dense)              (None, 80)                82000     \n",
      "=================================================================\n",
      "Total params: 8,564,880\n",
      "Trainable params: 8,564,880\n",
      "Non-trainable params: 0\n",
      "_________________________________________________________________\n"
     ]
    }
   ],
   "source": [
    "model_simple.summary()"
   ]
  },
  {
   "cell_type": "code",
   "execution_count": 9,
   "metadata": {},
   "outputs": [],
   "source": [
    "model_simple.compile(loss='categorical_crossentropy', optimizer=optimizers.Adagrad(lr=0.01), metrics=['acc'])"
   ]
  },
  {
   "cell_type": "code",
   "execution_count": 10,
   "metadata": {},
   "outputs": [
    {
     "name": "stdout",
     "output_type": "stream",
     "text": [
      "Epoch 1/20\n",
      "128/128 [==============================] - 12s 90ms/step - loss: 4.0522 - acc: 0.1014 - val_loss: 2.9788 - val_acc: 0.2500\n",
      "Epoch 2/20\n",
      "128/128 [==============================] - 7s 53ms/step - loss: 2.0585 - acc: 0.4661 - val_loss: 1.6802 - val_acc: 0.5819\n",
      "Epoch 3/20\n",
      "128/128 [==============================] - 6s 49ms/step - loss: 0.8325 - acc: 0.7825 - val_loss: 1.1667 - val_acc: 0.7362\n",
      "Epoch 4/20\n",
      "128/128 [==============================] - 6s 46ms/step - loss: 0.2568 - acc: 0.9385 - val_loss: 1.0669 - val_acc: 0.8019\n",
      "Epoch 5/20\n",
      "128/128 [==============================] - 6s 46ms/step - loss: 0.0698 - acc: 0.9866 - val_loss: 1.0767 - val_acc: 0.8181\n",
      "Epoch 6/20\n",
      "128/128 [==============================] - 6s 49ms/step - loss: 0.0164 - acc: 0.9987 - val_loss: 1.1737 - val_acc: 0.8200\n",
      "Epoch 7/20\n",
      "128/128 [==============================] - 6s 48ms/step - loss: 0.0069 - acc: 0.9996 - val_loss: 1.2355 - val_acc: 0.8200\n",
      "Epoch 8/20\n",
      "128/128 [==============================] - 6s 50ms/step - loss: 0.0046 - acc: 0.9998 - val_loss: 1.2743 - val_acc: 0.8187\n",
      "Epoch 9/20\n",
      "128/128 [==============================] - 6s 46ms/step - loss: 0.0034 - acc: 0.9998 - val_loss: 1.2908 - val_acc: 0.8206\n",
      "Epoch 10/20\n",
      "128/128 [==============================] - 6s 48ms/step - loss: 0.0026 - acc: 0.9999 - val_loss: 1.3124 - val_acc: 0.8219\n",
      "Epoch 11/20\n",
      "128/128 [==============================] - 6s 47ms/step - loss: 0.0029 - acc: 0.9998 - val_loss: 1.3206 - val_acc: 0.8181\n",
      "Epoch 12/20\n",
      "128/128 [==============================] - 6s 47ms/step - loss: 0.0023 - acc: 0.9998 - val_loss: 1.3353 - val_acc: 0.8213\n",
      "Epoch 13/20\n",
      "128/128 [==============================] - 6s 48ms/step - loss: 0.0025 - acc: 0.9998 - val_loss: 1.3538 - val_acc: 0.8213\n",
      "Epoch 14/20\n",
      "128/128 [==============================] - 6s 46ms/step - loss: 0.0016 - acc: 0.9999 - val_loss: 1.3549 - val_acc: 0.8206\n",
      "Epoch 15/20\n",
      "128/128 [==============================] - 6s 46ms/step - loss: 0.0017 - acc: 0.9998 - val_loss: 1.3657 - val_acc: 0.8175\n",
      "Epoch 16/20\n",
      "128/128 [==============================] - 6s 46ms/step - loss: 0.0013 - acc: 0.9999 - val_loss: 1.3684 - val_acc: 0.8206\n",
      "Epoch 17/20\n",
      "128/128 [==============================] - 6s 46ms/step - loss: 0.0013 - acc: 0.9999 - val_loss: 1.3750 - val_acc: 0.8213\n",
      "Epoch 18/20\n",
      "128/128 [==============================] - 6s 46ms/step - loss: 0.0012 - acc: 0.9999 - val_loss: 1.3838 - val_acc: 0.8187\n",
      "Epoch 19/20\n",
      "128/128 [==============================] - 6s 49ms/step - loss: 0.0011 - acc: 0.9999 - val_loss: 1.3939 - val_acc: 0.8175\n",
      "Epoch 20/20\n",
      "128/128 [==============================] - 6s 47ms/step - loss: 0.0014 - acc: 0.9998 - val_loss: 1.3945 - val_acc: 0.8200\n"
     ]
    }
   ],
   "source": [
    "history_simple = model_simple.fit_generator(train_generator, \n",
    "                              steps_per_epoch=128, \n",
    "                              epochs=20, \n",
    "                              validation_data=val_generator)"
   ]
  },
  {
   "cell_type": "code",
   "execution_count": 11,
   "metadata": {},
   "outputs": [],
   "source": [
    "acc = history_simple.history['acc']\n",
    "val_acc = history_simple.history['val_acc']\n",
    "loss = history_simple.history['loss']\n",
    "val_loss = history_simple.history['val_loss']\n",
    "\n",
    "epochs = range(1, len(acc)+1)"
   ]
  },
  {
   "cell_type": "code",
   "execution_count": 12,
   "metadata": {},
   "outputs": [
    {
     "data": {
      "text/plain": [
       "<matplotlib.legend.Legend at 0x24327c2b668>"
      ]
     },
     "execution_count": 12,
     "metadata": {},
     "output_type": "execute_result"
    },
    {
     "data": {
      "image/png": "[encoded data removed]",
      "text/plain": [
       "<Figure size 432x288 with 1 Axes>"
      ]
     },
     "metadata": {},
     "output_type": "display_data"
    }
   ],
   "source": [
    "plt.plot(epochs, acc, label='Training Acc')\n",
    "plt.plot(epochs, val_acc, label='Validation Acc')\n",
    "plt.legend()"
   ]
  },
  {
   "cell_type": "code",
   "execution_count": 13,
   "metadata": {},
   "outputs": [
    {
     "data": {
      "text/plain": [
       "<matplotlib.legend.Legend at 0x2433ec3ad30>"
      ]
     },
     "execution_count": 13,
     "metadata": {},
     "output_type": "execute_result"
    },
    {
     "data": {
      "image/png": "[encoded data removed]",
      "text/plain": [
       "<Figure size 432x288 with 1 Axes>"
      ]
     },
     "metadata": {},
     "output_type": "display_data"
    }
   ],
   "source": [
    "plt.plot(epochs, loss, label='Training Loss')\n",
    "plt.plot(epochs, val_loss, label='Validation Loss')\n",
    "plt.legend()"
   ]
  },
  {
   "cell_type": "code",
   "execution_count": 14,
   "metadata": {},
   "outputs": [
    {
     "data": {
      "text/plain": [
       "[1.2819558668136597, 0.8275]"
      ]
     },
     "execution_count": 14,
     "metadata": {},
     "output_type": "execute_result"
    }
   ],
   "source": [
    "model_simple.evaluate_generator(test_generator)"
   ]
  },
  {
   "cell_type": "markdown",
   "metadata": {},
   "source": [
    "## 3. 过拟合\n",
    "\n",
    "通过上面的分析，我们发现模型严重过拟合了，我们可以采用以下策略减轻过拟合的问题：\n",
    "\n",
    "1. Dropout\n",
    "2. 早停\n",
    "3. 正则化\n",
    "4. 数据增强\n",
    "\n",
    "### 3.1 Dropout\n",
    "\n",
    "一些经验：\n",
    "\n",
    "1. Dropout放到后面几层，尤其是全连接层；\n",
    "2. 丢失率为0.25效果往往比较好。\n",
    "\n",
    "Dropout太少或者丢失率太小的话不能有效缓解过拟合，Dropout太多或者丢失率太大容易导致模型不收敛。\n",
    "\n",
    "没有太固定的套路决定Dropout怎么设置，更好的策略是根据验证机调整"
   ]
  },
  {
   "cell_type": "code",
   "execution_count": 37,
   "metadata": {},
   "outputs": [],
   "source": [
    "model_dropout = models.Sequential()\n",
    "model_dropout.add(layers.Conv2D(32, (3,3), padding='same', activation='relu', input_shape = (66,66,3)))\n",
    "model_dropout.add(layers.MaxPooling2D((2,2)))\n",
    "model_dropout.add(layers.Conv2D(64, (3,3), padding='same', activation='relu'))\n",
    "model_dropout.add(layers.MaxPooling2D((2,2)))\n",
    "model_dropout.add(layers.Dropout(0.25))\n",
    "model_dropout.add(layers.Conv2D(128, (3,3), padding='same', activation='relu'))\n",
    "model_dropout.add(layers.MaxPooling2D((2,2)))\n",
    "model_dropout.add(layers.Dropout(0.25))\n",
    "model_dropout.add(layers.Flatten())\n",
    "model_dropout.add(layers.Dense(1024, activation='relu'))\n",
    "model_dropout.add(layers.Dropout(0.25))\n",
    "model_dropout.add(layers.Dense(80, activation='softmax'))"
   ]
  },
  {
   "cell_type": "code",
   "execution_count": 38,
   "metadata": {},
   "outputs": [
    {
     "name": "stdout",
     "output_type": "stream",
     "text": [
      "_________________________________________________________________\n",
      "Layer (type)                 Output Shape              Param #   \n",
      "=================================================================\n",
      "conv2d_7 (Conv2D)            (None, 66, 66, 32)        896       \n",
      "_________________________________________________________________\n",
      "max_pooling2d_7 (MaxPooling2 (None, 33, 33, 32)        0         \n",
      "_________________________________________________________________\n",
      "conv2d_8 (Conv2D)            (None, 33, 33, 64)        18496     \n",
      "_________________________________________________________________\n",
      "max_pooling2d_8 (MaxPooling2 (None, 16, 16, 64)        0         \n",
      "_________________________________________________________________\n",
      "dropout_7 (Dropout)          (None, 16, 16, 64)        0         \n",
      "_________________________________________________________________\n",
      "conv2d_9 (Conv2D)            (None, 16, 16, 128)       73856     \n",
      "_________________________________________________________________\n",
      "max_pooling2d_9 (MaxPooling2 (None, 8, 8, 128)         0         \n",
      "_________________________________________________________________\n",
      "dropout_8 (Dropout)          (None, 8, 8, 128)         0         \n",
      "_________________________________________________________________\n",
      "flatten_3 (Flatten)          (None, 8192)              0         \n",
      "_________________________________________________________________\n",
      "dense_5 (Dense)              (None, 1024)              8389632   \n",
      "_________________________________________________________________\n",
      "dropout_9 (Dropout)          (None, 1024)              0         \n",
      "_________________________________________________________________\n",
      "dense_6 (Dense)              (None, 80)                82000     \n",
      "=================================================================\n",
      "Total params: 8,564,880\n",
      "Trainable params: 8,564,880\n",
      "Non-trainable params: 0\n",
      "_________________________________________________________________\n"
     ]
    }
   ],
   "source": [
    "model_dropout.summary()"
   ]
  },
  {
   "cell_type": "code",
   "execution_count": 39,
   "metadata": {},
   "outputs": [
    {
     "name": "stdout",
     "output_type": "stream",
     "text": [
      "Epoch 1/20\n",
      "128/128 [==============================] - 7s 51ms/step - loss: 4.0397 - acc: 0.0814 - val_loss: 3.1852 - val_acc: 0.2238\n",
      "Epoch 2/20\n",
      "128/128 [==============================] - 6s 50ms/step - loss: 2.5751 - acc: 0.3361 - val_loss: 2.2123 - val_acc: 0.4294\n",
      "Epoch 3/20\n",
      "128/128 [==============================] - 6s 49ms/step - loss: 1.6246 - acc: 0.5673 - val_loss: 1.7204 - val_acc: 0.5781\n",
      "Epoch 4/20\n",
      "128/128 [==============================] - 6s 48ms/step - loss: 0.9945 - acc: 0.7293 - val_loss: 1.2534 - val_acc: 0.7131\n",
      "Epoch 5/20\n",
      "128/128 [==============================] - 6s 48ms/step - loss: 0.6411 - acc: 0.8269 - val_loss: 1.1056 - val_acc: 0.7575\n",
      "Epoch 6/20\n",
      "128/128 [==============================] - 6s 48ms/step - loss: 0.3868 - acc: 0.8924 - val_loss: 1.0318 - val_acc: 0.7931\n",
      "Epoch 7/20\n",
      "128/128 [==============================] - 6s 47ms/step - loss: 0.2558 - acc: 0.9287 - val_loss: 1.0298 - val_acc: 0.8087\n",
      "Epoch 8/20\n",
      "128/128 [==============================] - 6s 48ms/step - loss: 0.1768 - acc: 0.9520 - val_loss: 1.0023 - val_acc: 0.8187\n",
      "Epoch 9/20\n",
      "128/128 [==============================] - 6s 46ms/step - loss: 0.1386 - acc: 0.9603 - val_loss: 1.0149 - val_acc: 0.8287\n",
      "Epoch 10/20\n",
      "128/128 [==============================] - 6s 50ms/step - loss: 0.1094 - acc: 0.9674 - val_loss: 1.0373 - val_acc: 0.8187\n",
      "Epoch 11/20\n",
      "128/128 [==============================] - 6s 49ms/step - loss: 0.0784 - acc: 0.9793 - val_loss: 1.0673 - val_acc: 0.8275\n",
      "Epoch 12/20\n",
      "128/128 [==============================] - 6s 48ms/step - loss: 0.0673 - acc: 0.9814 - val_loss: 1.0792 - val_acc: 0.8294\n",
      "Epoch 13/20\n",
      "128/128 [==============================] - 6s 47ms/step - loss: 0.0621 - acc: 0.9834 - val_loss: 1.0797 - val_acc: 0.8225\n",
      "Epoch 14/20\n",
      "128/128 [==============================] - 6s 47ms/step - loss: 0.0484 - acc: 0.9878 - val_loss: 1.1071 - val_acc: 0.8287\n",
      "Epoch 15/20\n",
      "128/128 [==============================] - 6s 47ms/step - loss: 0.0433 - acc: 0.9883 - val_loss: 1.1120 - val_acc: 0.8237\n",
      "Epoch 16/20\n",
      "128/128 [==============================] - 6s 48ms/step - loss: 0.0360 - acc: 0.9907 - val_loss: 1.1149 - val_acc: 0.8313\n",
      "Epoch 17/20\n",
      "128/128 [==============================] - 6s 47ms/step - loss: 0.0343 - acc: 0.9913 - val_loss: 1.1108 - val_acc: 0.8319\n",
      "Epoch 18/20\n",
      "128/128 [==============================] - 6s 46ms/step - loss: 0.0298 - acc: 0.9929 - val_loss: 1.1382 - val_acc: 0.8269\n",
      "Epoch 19/20\n",
      "128/128 [==============================] - 6s 50ms/step - loss: 0.0314 - acc: 0.9910 - val_loss: 1.1532 - val_acc: 0.8300\n",
      "Epoch 20/20\n",
      "128/128 [==============================] - 6s 48ms/step - loss: 0.0257 - acc: 0.9926 - val_loss: 1.1424 - val_acc: 0.8300\n"
     ]
    }
   ],
   "source": [
    "model_dropout.compile(loss='categorical_crossentropy', optimizer=optimizers.Adagrad(lr=0.01), metrics=['acc'])\n",
    "history_dropout = model_dropout.fit_generator(train_generator, \n",
    "                              steps_per_epoch=128, \n",
    "                              epochs=20, \n",
    "                              validation_data=val_generator)"
   ]
  },
  {
   "cell_type": "code",
   "execution_count": 40,
   "metadata": {},
   "outputs": [],
   "source": [
    "acc = history_dropout.history['acc']\n",
    "val_acc = history_dropout.history['val_acc']\n",
    "loss = history_dropout.history['loss']\n",
    "val_loss = history_dropout.history['val_loss']\n",
    "\n",
    "epochs = range(1, len(acc)+1)"
   ]
  },
  {
   "cell_type": "code",
   "execution_count": 41,
   "metadata": {},
   "outputs": [
    {
     "data": {
      "text/plain": [
       "<matplotlib.legend.Legend at 0x24331d73cc0>"
      ]
     },
     "execution_count": 41,
     "metadata": {},
     "output_type": "execute_result"
    },
    {
     "data": {
      "image/png": "[encoded data removed]",
      "text/plain": [
       "<Figure size 432x288 with 1 Axes>"
      ]
     },
     "metadata": {},
     "output_type": "display_data"
    }
   ],
   "source": [
    "plt.plot(epochs, acc, label='Training Acc')\n",
    "plt.plot(epochs, val_acc, label='Validation Acc')\n",
    "plt.legend()"
   ]
  },
  {
   "cell_type": "code",
   "execution_count": 42,
   "metadata": {},
   "outputs": [
    {
     "data": {
      "text/plain": [
       "<matplotlib.legend.Legend at 0x24328f2b9e8>"
      ]
     },
     "execution_count": 42,
     "metadata": {},
     "output_type": "execute_result"
    },
    {
     "data": {
      "image/png": "[encoded data removed]",
      "text/plain": [
       "<Figure size 432x288 with 1 Axes>"
      ]
     },
     "metadata": {},
     "output_type": "display_data"
    }
   ],
   "source": [
    "plt.plot(epochs, loss, label='Training Loss')\n",
    "plt.plot(epochs, val_loss, label='Validation Loss')\n",
    "plt.legend()"
   ]
  },
  {
   "cell_type": "code",
   "execution_count": 43,
   "metadata": {},
   "outputs": [
    {
     "data": {
      "text/plain": [
       "[1.018291893005371, 0.83375]"
      ]
     },
     "execution_count": 43,
     "metadata": {},
     "output_type": "execute_result"
    }
   ],
   "source": [
    "model_dropout.evaluate_generator(test_generator)"
   ]
  },
  {
   "cell_type": "markdown",
   "metadata": {},
   "source": [
    "## 3.2 数据扩充\n",
    "\n",
    "keras提供在调用ImageDataGenerator类的时候添加数据扩充策略\n",
    "\n",
    "```py\n",
    "keras.preprocessing.image.ImageDataGenerator(featurewise_center=False, \n",
    "                                             samplewise_center=False, \n",
    "                                             featurewise_std_normalization=False, \n",
    "                                             samplewise_std_normalization=False, \n",
    "                                             zca_whitening=False, \n",
    "                                             zca_epsilon=1e-06, \n",
    "                                             rotation_range=0.0, \n",
    "                                             width_shift_range=0.0, \n",
    "                                             height_shift_range=0.0, \n",
    "                                             brightness_range=None, \n",
    "                                             shear_range=0.0, \n",
    "                                             zoom_range=0.0, \n",
    "                                             channel_shift_range=0.0, \n",
    "                                             fill_mode='nearest', \n",
    "                                             cval=0.0, \n",
    "                                             horizontal_flip=False, \n",
    "                                             vertical_flip=False, \n",
    "                                             rescale=None, \n",
    "                                             preprocessing_function=None, \n",
    "                                             data_format=None, \n",
    "                                             validation_split=0.0)\n",
    "                                             \n",
    "```\n",
    "\n",
    "数据扩充的几点思考：\n",
    "\n",
    "1. 扩充策略的设置要建立在对数据集充分的观测和理解上；\n",
    "2. 正确的扩充策略能增加样本数量，大幅减轻过拟合的问题；\n",
    "3. 错误的扩充策略很有可能导致模型不好收敛，更严重的问题是使训练集和测试集的分布更加不一致，加剧过拟合的问题；\n",
    "4. 往往开发者需要根据业务场景自行实现扩充策略"
   ]
  },
  {
   "cell_type": "code",
   "execution_count": 44,
   "metadata": {},
   "outputs": [
    {
     "name": "stdout",
     "output_type": "stream",
     "text": [
      "Found 8594 images belonging to 80 classes.\n"
     ]
    }
   ],
   "source": [
    "train_data_gen_aug = ImageDataGenerator(rescale=1./255,\n",
    "                                        horizontal_flip = True, \n",
    "                                        zoom_range = 0.1,\n",
    "                                       width_shift_range= 0.1,\n",
    "                                       height_shift_range=0.1,\n",
    "                                       shear_range=0.1,\n",
    "                                       rotation_range=5)\n",
    "train_generator_aug = train_data_gen_aug.flow_from_directory(train_folder, \n",
    "                                                     target_size=(66, 66), \n",
    "                                                     batch_size=128, \n",
    "                                                     class_mode='categorical')"
   ]
  },
  {
   "cell_type": "code",
   "execution_count": 45,
   "metadata": {},
   "outputs": [],
   "source": [
    "model_dropout_aug = models.Sequential()\n",
    "model_dropout_aug.add(layers.Conv2D(32, (3,3), padding='same', activation='relu', input_shape = (66,66,3)))\n",
    "model_dropout_aug.add(layers.MaxPooling2D((2,2)))\n",
    "model_dropout_aug.add(layers.Conv2D(64, (3,3), padding='same', activation='relu'))\n",
    "model_dropout_aug.add(layers.MaxPooling2D((2,2)))\n",
    "model_dropout.add(layers.Dropout(0.25))\n",
    "model_dropout_aug.add(layers.Conv2D(128, (3,3), padding='same', activation='relu'))\n",
    "model_dropout_aug.add(layers.MaxPooling2D((2,2)))\n",
    "model_dropout_aug.add(layers.Dropout(0.25))\n",
    "model_dropout_aug.add(layers.Flatten())\n",
    "model_dropout_aug.add(layers.Dense(1024, activation='relu'))\n",
    "model_dropout_aug.add(layers.Dropout(0.25))\n",
    "model_dropout_aug.add(layers.Dense(80, activation='softmax'))"
   ]
  },
  {
   "cell_type": "code",
   "execution_count": 46,
   "metadata": {},
   "outputs": [
    {
     "name": "stdout",
     "output_type": "stream",
     "text": [
      "Epoch 1/200\n",
      "128/128 [==============================] - 17s 136ms/step - loss: 4.0259 - acc: 0.0810 - val_loss: 3.3218 - val_acc: 0.1787\n",
      "Epoch 2/200\n",
      "128/128 [==============================] - 17s 131ms/step - loss: 2.9262 - acc: 0.2534 - val_loss: 2.5636 - val_acc: 0.3519\n",
      "Epoch 3/200\n",
      "128/128 [==============================] - 17s 130ms/step - loss: 2.3618 - acc: 0.3791 - val_loss: 2.3972 - val_acc: 0.3969\n",
      "Epoch 4/200\n",
      "128/128 [==============================] - 16s 129ms/step - loss: 1.9685 - acc: 0.4737 - val_loss: 1.8225 - val_acc: 0.5156\n",
      "Epoch 5/200\n",
      "128/128 [==============================] - 17s 134ms/step - loss: 1.6555 - acc: 0.5474 - val_loss: 1.6301 - val_acc: 0.5837\n",
      "Epoch 6/200\n",
      "128/128 [==============================] - 17s 131ms/step - loss: 1.4281 - acc: 0.6016 - val_loss: 1.7168 - val_acc: 0.5681\n",
      "Epoch 7/200\n",
      "128/128 [==============================] - 17s 136ms/step - loss: 1.2404 - acc: 0.6488 - val_loss: 1.4457 - val_acc: 0.6319\n",
      "Epoch 8/200\n",
      "128/128 [==============================] - 17s 129ms/step - loss: 1.1034 - acc: 0.6899 - val_loss: 1.3736 - val_acc: 0.6637\n",
      "Epoch 9/200\n",
      "128/128 [==============================] - 17s 131ms/step - loss: 0.9888 - acc: 0.7203 - val_loss: 1.3376 - val_acc: 0.6600\n",
      "Epoch 10/200\n",
      "128/128 [==============================] - 17s 133ms/step - loss: 0.8538 - acc: 0.7559 - val_loss: 1.2791 - val_acc: 0.6856\n",
      "Epoch 11/200\n",
      "128/128 [==============================] - 17s 130ms/step - loss: 0.7837 - acc: 0.7763 - val_loss: 1.2351 - val_acc: 0.7094\n",
      "Epoch 12/200\n",
      "128/128 [==============================] - 17s 131ms/step - loss: 0.6924 - acc: 0.7990 - val_loss: 1.1178 - val_acc: 0.7381\n",
      "Epoch 13/200\n",
      "128/128 [==============================] - 17s 130ms/step - loss: 0.6465 - acc: 0.8131 - val_loss: 1.0823 - val_acc: 0.7519\n",
      "Epoch 14/200\n",
      "128/128 [==============================] - 17s 132ms/step - loss: 0.5894 - acc: 0.8283 - val_loss: 1.1084 - val_acc: 0.7506\n",
      "Epoch 15/200\n",
      "128/128 [==============================] - 16s 129ms/step - loss: 0.5429 - acc: 0.8396 - val_loss: 1.1174 - val_acc: 0.7550\n",
      "Epoch 16/200\n",
      "128/128 [==============================] - 17s 131ms/step - loss: 0.5063 - acc: 0.8521 - val_loss: 1.1670 - val_acc: 0.7412\n",
      "Epoch 17/200\n",
      "128/128 [==============================] - 17s 131ms/step - loss: 0.4659 - acc: 0.8626 - val_loss: 1.0425 - val_acc: 0.7769\n",
      "Epoch 18/200\n",
      "128/128 [==============================] - 18s 140ms/step - loss: 0.4233 - acc: 0.8757 - val_loss: 1.0459 - val_acc: 0.7794\n",
      "Epoch 19/200\n",
      "128/128 [==============================] - 17s 136ms/step - loss: 0.3901 - acc: 0.8870 - val_loss: 0.9454 - val_acc: 0.8069\n",
      "Epoch 20/200\n",
      "128/128 [==============================] - 18s 141ms/step - loss: 0.3828 - acc: 0.8843 - val_loss: 1.0347 - val_acc: 0.7950\n",
      "Epoch 21/200\n",
      "128/128 [==============================] - 18s 139ms/step - loss: 0.3584 - acc: 0.8918 - val_loss: 0.9767 - val_acc: 0.8144\n",
      "Epoch 22/200\n",
      "128/128 [==============================] - 17s 133ms/step - loss: 0.3382 - acc: 0.8990 - val_loss: 1.0871 - val_acc: 0.7906\n",
      "Epoch 23/200\n",
      "128/128 [==============================] - 17s 133ms/step - loss: 0.3137 - acc: 0.9056 - val_loss: 1.0447 - val_acc: 0.8006\n",
      "Epoch 24/200\n",
      "128/128 [==============================] - 18s 137ms/step - loss: 0.2959 - acc: 0.9081 - val_loss: 0.9551 - val_acc: 0.8287\n",
      "Epoch 25/200\n",
      "128/128 [==============================] - 17s 135ms/step - loss: 0.2884 - acc: 0.9128 - val_loss: 1.0457 - val_acc: 0.8037\n",
      "Epoch 26/200\n",
      "128/128 [==============================] - 18s 137ms/step - loss: 0.2883 - acc: 0.9130 - val_loss: 1.0099 - val_acc: 0.8175\n",
      "Epoch 27/200\n",
      "128/128 [==============================] - 18s 142ms/step - loss: 0.2565 - acc: 0.9217 - val_loss: 1.0567 - val_acc: 0.8050\n",
      "Epoch 28/200\n",
      "128/128 [==============================] - 17s 135ms/step - loss: 0.2540 - acc: 0.9217 - val_loss: 0.9597 - val_acc: 0.8337\n",
      "Epoch 29/200\n",
      "128/128 [==============================] - 18s 137ms/step - loss: 0.2315 - acc: 0.9308 - val_loss: 0.9302 - val_acc: 0.8400\n",
      "Epoch 30/200\n",
      "128/128 [==============================] - 17s 131ms/step - loss: 0.2166 - acc: 0.9346 - val_loss: 0.9445 - val_acc: 0.8381\n",
      "Epoch 31/200\n",
      "128/128 [==============================] - 17s 132ms/step - loss: 0.2162 - acc: 0.9330 - val_loss: 0.9233 - val_acc: 0.8406\n",
      "Epoch 32/200\n",
      "128/128 [==============================] - 17s 131ms/step - loss: 0.2105 - acc: 0.9363 - val_loss: 0.9429 - val_acc: 0.8425\n",
      "Epoch 33/200\n",
      "128/128 [==============================] - 17s 131ms/step - loss: 0.1989 - acc: 0.9404 - val_loss: 0.9424 - val_acc: 0.8419\n",
      "Epoch 34/200\n",
      "128/128 [==============================] - 17s 131ms/step - loss: 0.1843 - acc: 0.9429 - val_loss: 0.9746 - val_acc: 0.8313\n",
      "Epoch 35/200\n",
      "128/128 [==============================] - 17s 136ms/step - loss: 0.1860 - acc: 0.9432 - val_loss: 1.0333 - val_acc: 0.8269\n",
      "Epoch 36/200\n",
      "128/128 [==============================] - 17s 136ms/step - loss: 0.1768 - acc: 0.9477 - val_loss: 0.9954 - val_acc: 0.8363\n",
      "Epoch 37/200\n",
      "128/128 [==============================] - 17s 130ms/step - loss: 0.1628 - acc: 0.9495 - val_loss: 1.0206 - val_acc: 0.8337\n",
      "Epoch 38/200\n",
      "128/128 [==============================] - 17s 129ms/step - loss: 0.1594 - acc: 0.9520 - val_loss: 1.0496 - val_acc: 0.8300\n",
      "Epoch 39/200\n",
      "128/128 [==============================] - 17s 130ms/step - loss: 0.1600 - acc: 0.9515 - val_loss: 0.9601 - val_acc: 0.8456\n",
      "Epoch 40/200\n",
      "128/128 [==============================] - 17s 133ms/step - loss: 0.1520 - acc: 0.9549 - val_loss: 1.0321 - val_acc: 0.8325\n",
      "Epoch 41/200\n",
      "128/128 [==============================] - 17s 134ms/step - loss: 0.1492 - acc: 0.9549 - val_loss: 1.0455 - val_acc: 0.8300\n",
      "Epoch 42/200\n",
      "128/128 [==============================] - 17s 134ms/step - loss: 0.1411 - acc: 0.9570 - val_loss: 1.0281 - val_acc: 0.8387\n",
      "Epoch 43/200\n",
      "128/128 [==============================] - 17s 133ms/step - loss: 0.1387 - acc: 0.9589 - val_loss: 1.0741 - val_acc: 0.8244\n",
      "Epoch 44/200\n",
      "128/128 [==============================] - 17s 136ms/step - loss: 0.1292 - acc: 0.9612 - val_loss: 1.0042 - val_acc: 0.8369\n",
      "Epoch 45/200\n",
      "128/128 [==============================] - 18s 141ms/step - loss: 0.1200 - acc: 0.9643 - val_loss: 1.0168 - val_acc: 0.8419\n",
      "Epoch 46/200\n",
      "128/128 [==============================] - 18s 143ms/step - loss: 0.1255 - acc: 0.9611 - val_loss: 0.9799 - val_acc: 0.8481\n",
      "Epoch 47/200\n",
      "128/128 [==============================] - 18s 137ms/step - loss: 0.1298 - acc: 0.9606 - val_loss: 1.1183 - val_acc: 0.8244\n",
      "Epoch 48/200\n",
      "128/128 [==============================] - 17s 132ms/step - loss: 0.1227 - acc: 0.9630 - val_loss: 0.9946 - val_acc: 0.8488\n",
      "Epoch 49/200\n",
      "128/128 [==============================] - 17s 133ms/step - loss: 0.1181 - acc: 0.9632 - val_loss: 1.0450 - val_acc: 0.8406\n",
      "Epoch 50/200\n",
      "128/128 [==============================] - 18s 144ms/step - loss: 0.1151 - acc: 0.9645 - val_loss: 1.0095 - val_acc: 0.8456\n",
      "Epoch 51/200\n",
      "128/128 [==============================] - 17s 133ms/step - loss: 0.1135 - acc: 0.9661 - val_loss: 1.0284 - val_acc: 0.8406\n",
      "Epoch 52/200\n",
      "128/128 [==============================] - 17s 134ms/step - loss: 0.1094 - acc: 0.9663 - val_loss: 1.0346 - val_acc: 0.8444\n",
      "Epoch 53/200\n",
      "128/128 [==============================] - 17s 132ms/step - loss: 0.0978 - acc: 0.9722 - val_loss: 1.0263 - val_acc: 0.8475\n",
      "Epoch 54/200\n",
      "128/128 [==============================] - 17s 131ms/step - loss: 0.1045 - acc: 0.9679 - val_loss: 1.0129 - val_acc: 0.8494\n",
      "Epoch 55/200\n",
      "128/128 [==============================] - 17s 132ms/step - loss: 0.1040 - acc: 0.9694 - val_loss: 1.0091 - val_acc: 0.8531\n",
      "Epoch 56/200\n",
      "128/128 [==============================] - 17s 130ms/step - loss: 0.0957 - acc: 0.9723 - val_loss: 1.0144 - val_acc: 0.8488\n",
      "Epoch 57/200\n",
      "128/128 [==============================] - 17s 133ms/step - loss: 0.0963 - acc: 0.9702 - val_loss: 1.1304 - val_acc: 0.8331\n",
      "Epoch 58/200\n",
      "128/128 [==============================] - 17s 134ms/step - loss: 0.0945 - acc: 0.9711 - val_loss: 1.0269 - val_acc: 0.8475\n",
      "Epoch 59/200\n",
      "128/128 [==============================] - 17s 133ms/step - loss: 0.0961 - acc: 0.9716 - val_loss: 1.0056 - val_acc: 0.8450\n",
      "Epoch 60/200\n",
      "128/128 [==============================] - 17s 132ms/step - loss: 0.0971 - acc: 0.9705 - val_loss: 1.0333 - val_acc: 0.8450\n"
     ]
    },
    {
     "name": "stdout",
     "output_type": "stream",
     "text": [
      "Epoch 61/200\n",
      "128/128 [==============================] - 17s 134ms/step - loss: 0.0960 - acc: 0.9714 - val_loss: 1.0370 - val_acc: 0.8475\n",
      "Epoch 62/200\n",
      "128/128 [==============================] - 17s 133ms/step - loss: 0.0914 - acc: 0.9725 - val_loss: 1.0537 - val_acc: 0.8456\n",
      "Epoch 63/200\n",
      "128/128 [==============================] - 17s 132ms/step - loss: 0.0931 - acc: 0.9729 - val_loss: 1.0934 - val_acc: 0.8337\n",
      "Epoch 64/200\n",
      "128/128 [==============================] - 17s 133ms/step - loss: 0.0885 - acc: 0.9731 - val_loss: 1.0723 - val_acc: 0.8363\n",
      "Epoch 65/200\n",
      "128/128 [==============================] - 17s 132ms/step - loss: 0.0794 - acc: 0.9770 - val_loss: 1.0345 - val_acc: 0.8475\n",
      "Epoch 66/200\n",
      "128/128 [==============================] - 17s 133ms/step - loss: 0.0888 - acc: 0.9742 - val_loss: 1.0473 - val_acc: 0.8481\n",
      "Epoch 67/200\n",
      "128/128 [==============================] - 17s 133ms/step - loss: 0.0814 - acc: 0.9761 - val_loss: 1.0505 - val_acc: 0.8488\n",
      "Epoch 68/200\n",
      "128/128 [==============================] - 17s 131ms/step - loss: 0.0780 - acc: 0.9772 - val_loss: 1.1200 - val_acc: 0.8400\n",
      "Epoch 69/200\n",
      "128/128 [==============================] - 17s 133ms/step - loss: 0.0793 - acc: 0.9765 - val_loss: 1.1181 - val_acc: 0.8419\n",
      "Epoch 70/200\n",
      "128/128 [==============================] - 17s 133ms/step - loss: 0.0779 - acc: 0.9766 - val_loss: 1.0859 - val_acc: 0.8406\n",
      "Epoch 71/200\n",
      "128/128 [==============================] - 17s 131ms/step - loss: 0.0769 - acc: 0.9774 - val_loss: 1.0617 - val_acc: 0.8475\n",
      "Epoch 72/200\n",
      "128/128 [==============================] - 17s 131ms/step - loss: 0.0770 - acc: 0.9765 - val_loss: 1.0985 - val_acc: 0.8438\n",
      "Epoch 73/200\n",
      "128/128 [==============================] - 17s 129ms/step - loss: 0.0777 - acc: 0.9761 - val_loss: 1.0957 - val_acc: 0.8406\n",
      "Epoch 74/200\n",
      "128/128 [==============================] - 17s 130ms/step - loss: 0.0781 - acc: 0.9768 - val_loss: 1.1015 - val_acc: 0.8375\n",
      "Epoch 75/200\n",
      "128/128 [==============================] - 17s 129ms/step - loss: 0.0748 - acc: 0.9768 - val_loss: 1.0807 - val_acc: 0.8494\n",
      "Epoch 76/200\n",
      "128/128 [==============================] - 16s 128ms/step - loss: 0.0676 - acc: 0.9804 - val_loss: 1.1086 - val_acc: 0.8400\n",
      "Epoch 77/200\n",
      "128/128 [==============================] - 17s 132ms/step - loss: 0.0699 - acc: 0.9783 - val_loss: 1.0716 - val_acc: 0.8469\n",
      "Epoch 78/200\n",
      "128/128 [==============================] - 18s 138ms/step - loss: 0.0658 - acc: 0.9791 - val_loss: 1.1364 - val_acc: 0.8406\n",
      "Epoch 79/200\n",
      "128/128 [==============================] - 18s 137ms/step - loss: 0.0626 - acc: 0.9802 - val_loss: 1.0812 - val_acc: 0.8481\n",
      "Epoch 80/200\n",
      "128/128 [==============================] - 17s 136ms/step - loss: 0.0610 - acc: 0.9816 - val_loss: 1.0611 - val_acc: 0.8506\n",
      "Epoch 81/200\n",
      "128/128 [==============================] - 18s 137ms/step - loss: 0.0622 - acc: 0.9814 - val_loss: 1.2113 - val_acc: 0.8269\n",
      "Epoch 82/200\n",
      "128/128 [==============================] - 18s 139ms/step - loss: 0.0589 - acc: 0.9815 - val_loss: 1.0945 - val_acc: 0.8475\n",
      "Epoch 83/200\n",
      "128/128 [==============================] - 18s 137ms/step - loss: 0.0671 - acc: 0.9804 - val_loss: 1.1172 - val_acc: 0.8363\n",
      "Epoch 84/200\n",
      "128/128 [==============================] - 18s 138ms/step - loss: 0.0644 - acc: 0.9807 - val_loss: 1.1354 - val_acc: 0.8350\n",
      "Epoch 85/200\n",
      "128/128 [==============================] - 17s 137ms/step - loss: 0.0613 - acc: 0.9808 - val_loss: 1.1107 - val_acc: 0.8419\n",
      "Epoch 86/200\n",
      "128/128 [==============================] - 18s 139ms/step - loss: 0.0626 - acc: 0.9807 - val_loss: 1.0655 - val_acc: 0.8413\n",
      "Epoch 87/200\n",
      "128/128 [==============================] - 18s 138ms/step - loss: 0.0565 - acc: 0.9835 - val_loss: 1.1157 - val_acc: 0.8431\n",
      "Epoch 88/200\n",
      "128/128 [==============================] - 17s 137ms/step - loss: 0.0574 - acc: 0.9832 - val_loss: 1.0950 - val_acc: 0.8444\n",
      "Epoch 89/200\n",
      "128/128 [==============================] - 17s 137ms/step - loss: 0.0567 - acc: 0.9823 - val_loss: 1.1116 - val_acc: 0.8425\n",
      "Epoch 90/200\n",
      "128/128 [==============================] - 18s 138ms/step - loss: 0.0552 - acc: 0.9842 - val_loss: 1.0867 - val_acc: 0.8506\n",
      "Epoch 91/200\n",
      "128/128 [==============================] - 18s 137ms/step - loss: 0.0520 - acc: 0.9847 - val_loss: 1.1396 - val_acc: 0.8394\n",
      "Epoch 92/200\n",
      "128/128 [==============================] - 18s 137ms/step - loss: 0.0600 - acc: 0.9822 - val_loss: 1.1063 - val_acc: 0.8450\n",
      "Epoch 93/200\n",
      "128/128 [==============================] - 17s 136ms/step - loss: 0.0548 - acc: 0.9839 - val_loss: 1.0971 - val_acc: 0.8406\n",
      "Epoch 94/200\n",
      "128/128 [==============================] - 18s 139ms/step - loss: 0.0530 - acc: 0.9844 - val_loss: 1.1271 - val_acc: 0.8444\n",
      "Epoch 95/200\n",
      "128/128 [==============================] - 18s 138ms/step - loss: 0.0526 - acc: 0.9842 - val_loss: 1.0944 - val_acc: 0.8419\n",
      "Epoch 96/200\n",
      "128/128 [==============================] - 17s 136ms/step - loss: 0.0506 - acc: 0.9849 - val_loss: 1.1391 - val_acc: 0.8425\n",
      "Epoch 97/200\n",
      "128/128 [==============================] - 17s 137ms/step - loss: 0.0547 - acc: 0.9825 - val_loss: 1.1220 - val_acc: 0.8462\n",
      "Epoch 98/200\n",
      "128/128 [==============================] - 18s 140ms/step - loss: 0.0512 - acc: 0.9846 - val_loss: 1.1152 - val_acc: 0.8488\n",
      "Epoch 99/200\n",
      "128/128 [==============================] - 18s 139ms/step - loss: 0.0473 - acc: 0.9871 - val_loss: 1.0804 - val_acc: 0.8494\n",
      "Epoch 100/200\n",
      "128/128 [==============================] - 18s 139ms/step - loss: 0.0478 - acc: 0.9859 - val_loss: 1.1523 - val_acc: 0.8469\n",
      "Epoch 101/200\n",
      "128/128 [==============================] - 18s 138ms/step - loss: 0.0476 - acc: 0.9867 - val_loss: 1.1171 - val_acc: 0.8438\n",
      "Epoch 102/200\n",
      "128/128 [==============================] - 18s 137ms/step - loss: 0.0483 - acc: 0.9842 - val_loss: 1.1879 - val_acc: 0.8425\n",
      "Epoch 103/200\n",
      "128/128 [==============================] - 18s 139ms/step - loss: 0.0469 - acc: 0.9863 - val_loss: 1.1332 - val_acc: 0.8475\n",
      "Epoch 104/200\n",
      "128/128 [==============================] - 18s 138ms/step - loss: 0.0492 - acc: 0.9849 - val_loss: 1.1069 - val_acc: 0.8500\n",
      "Epoch 105/200\n",
      "128/128 [==============================] - 18s 139ms/step - loss: 0.0490 - acc: 0.9859 - val_loss: 1.0997 - val_acc: 0.8462\n",
      "Epoch 106/200\n",
      "128/128 [==============================] - 18s 137ms/step - loss: 0.0528 - acc: 0.9838 - val_loss: 1.1047 - val_acc: 0.8462\n",
      "Epoch 107/200\n",
      "128/128 [==============================] - 18s 138ms/step - loss: 0.0456 - acc: 0.9864 - val_loss: 1.1196 - val_acc: 0.8519\n",
      "Epoch 108/200\n",
      "128/128 [==============================] - 18s 139ms/step - loss: 0.0452 - acc: 0.9861 - val_loss: 1.1358 - val_acc: 0.8475\n",
      "Epoch 109/200\n",
      "128/128 [==============================] - 18s 138ms/step - loss: 0.0479 - acc: 0.9850 - val_loss: 1.1582 - val_acc: 0.8438\n",
      "Epoch 110/200\n",
      "128/128 [==============================] - 18s 138ms/step - loss: 0.0437 - acc: 0.9872 - val_loss: 1.1418 - val_acc: 0.8456\n",
      "Epoch 111/200\n",
      "128/128 [==============================] - 18s 138ms/step - loss: 0.0496 - acc: 0.9853 - val_loss: 1.1478 - val_acc: 0.8469\n",
      "Epoch 112/200\n",
      "128/128 [==============================] - 18s 141ms/step - loss: 0.0487 - acc: 0.9862 - val_loss: 1.1677 - val_acc: 0.8419\n",
      "Epoch 113/200\n",
      "128/128 [==============================] - 18s 137ms/step - loss: 0.0443 - acc: 0.9867 - val_loss: 1.1437 - val_acc: 0.8488\n",
      "Epoch 114/200\n",
      "128/128 [==============================] - 18s 142ms/step - loss: 0.0429 - acc: 0.9874 - val_loss: 1.1323 - val_acc: 0.8525\n",
      "Epoch 115/200\n",
      "128/128 [==============================] - 18s 140ms/step - loss: 0.0440 - acc: 0.9875 - val_loss: 1.1734 - val_acc: 0.8444\n",
      "Epoch 116/200\n",
      "128/128 [==============================] - 18s 138ms/step - loss: 0.0426 - acc: 0.9869 - val_loss: 1.1679 - val_acc: 0.8450\n",
      "Epoch 117/200\n",
      "128/128 [==============================] - 18s 137ms/step - loss: 0.0443 - acc: 0.9869 - val_loss: 1.0796 - val_acc: 0.8550\n",
      "Epoch 118/200\n",
      "128/128 [==============================] - 18s 139ms/step - loss: 0.0469 - acc: 0.9866 - val_loss: 1.1036 - val_acc: 0.8525\n",
      "Epoch 119/200\n",
      "128/128 [==============================] - 18s 139ms/step - loss: 0.0437 - acc: 0.9864 - val_loss: 1.1890 - val_acc: 0.8306\n",
      "Epoch 120/200\n",
      "128/128 [==============================] - 18s 137ms/step - loss: 0.0406 - acc: 0.9881 - val_loss: 1.1324 - val_acc: 0.8475\n",
      "Epoch 121/200\n",
      "128/128 [==============================] - 18s 139ms/step - loss: 0.0399 - acc: 0.9879 - val_loss: 1.1638 - val_acc: 0.8438\n",
      "Epoch 122/200\n",
      "128/128 [==============================] - 18s 141ms/step - loss: 0.0412 - acc: 0.9886 - val_loss: 1.1464 - val_acc: 0.8475\n",
      "Epoch 123/200\n",
      "128/128 [==============================] - 18s 140ms/step - loss: 0.0420 - acc: 0.9872 - val_loss: 1.1464 - val_acc: 0.8494\n",
      "Epoch 124/200\n",
      "128/128 [==============================] - 18s 139ms/step - loss: 0.0465 - acc: 0.9859 - val_loss: 1.1369 - val_acc: 0.8475\n",
      "Epoch 125/200\n",
      "128/128 [==============================] - 18s 138ms/step - loss: 0.0407 - acc: 0.9876 - val_loss: 1.1702 - val_acc: 0.8419\n",
      "Epoch 126/200\n",
      "128/128 [==============================] - 18s 140ms/step - loss: 0.0368 - acc: 0.9889 - val_loss: 1.1669 - val_acc: 0.8475\n",
      "Epoch 127/200\n",
      "128/128 [==============================] - 18s 137ms/step - loss: 0.0375 - acc: 0.9884 - val_loss: 1.1213 - val_acc: 0.8538\n",
      "Epoch 128/200\n",
      "128/128 [==============================] - 18s 138ms/step - loss: 0.0377 - acc: 0.9892 - val_loss: 1.1611 - val_acc: 0.8519\n",
      "Epoch 129/200\n",
      "128/128 [==============================] - 18s 139ms/step - loss: 0.0368 - acc: 0.9892 - val_loss: 1.1554 - val_acc: 0.8431\n",
      "Epoch 130/200\n",
      "128/128 [==============================] - 18s 141ms/step - loss: 0.0407 - acc: 0.9878 - val_loss: 1.1506 - val_acc: 0.8431\n",
      "Epoch 131/200\n",
      "128/128 [==============================] - 18s 141ms/step - loss: 0.0359 - acc: 0.9884 - val_loss: 1.1030 - val_acc: 0.8525\n",
      "Epoch 132/200\n",
      "128/128 [==============================] - 18s 138ms/step - loss: 0.0374 - acc: 0.9897 - val_loss: 1.1357 - val_acc: 0.8475\n",
      "Epoch 133/200\n",
      "128/128 [==============================] - 18s 138ms/step - loss: 0.0350 - acc: 0.9890 - val_loss: 1.1347 - val_acc: 0.8500\n",
      "Epoch 134/200\n",
      "128/128 [==============================] - 18s 138ms/step - loss: 0.0362 - acc: 0.9897 - val_loss: 1.1816 - val_acc: 0.8425\n",
      "Epoch 135/200\n",
      "128/128 [==============================] - 18s 138ms/step - loss: 0.0351 - acc: 0.9889 - val_loss: 1.1739 - val_acc: 0.8450\n",
      "Epoch 136/200\n",
      "128/128 [==============================] - 18s 141ms/step - loss: 0.0358 - acc: 0.9895 - val_loss: 1.1806 - val_acc: 0.8462\n",
      "Epoch 137/200\n",
      "128/128 [==============================] - 18s 138ms/step - loss: 0.0365 - acc: 0.9889 - val_loss: 1.1463 - val_acc: 0.8475\n",
      "Epoch 138/200\n",
      "128/128 [==============================] - 18s 140ms/step - loss: 0.0385 - acc: 0.9869 - val_loss: 1.1224 - val_acc: 0.8581\n",
      "Epoch 139/200\n",
      "128/128 [==============================] - 18s 138ms/step - loss: 0.0382 - acc: 0.9882 - val_loss: 1.2249 - val_acc: 0.8425\n",
      "Epoch 140/200\n",
      "128/128 [==============================] - 18s 139ms/step - loss: 0.0352 - acc: 0.9894 - val_loss: 1.1972 - val_acc: 0.8456\n",
      "Epoch 141/200\n",
      "128/128 [==============================] - 18s 139ms/step - loss: 0.0340 - acc: 0.9899 - val_loss: 1.1966 - val_acc: 0.8431\n",
      "Epoch 142/200\n",
      "128/128 [==============================] - 18s 140ms/step - loss: 0.0349 - acc: 0.9902 - val_loss: 1.1611 - val_acc: 0.8494\n",
      "Epoch 143/200\n",
      "128/128 [==============================] - 18s 139ms/step - loss: 0.0311 - acc: 0.9919 - val_loss: 1.1949 - val_acc: 0.8438\n",
      "Epoch 144/200\n",
      "128/128 [==============================] - 18s 140ms/step - loss: 0.0342 - acc: 0.9897 - val_loss: 1.1605 - val_acc: 0.8481\n",
      "Epoch 145/200\n",
      "128/128 [==============================] - 18s 139ms/step - loss: 0.0331 - acc: 0.9904 - val_loss: 1.1820 - val_acc: 0.8456\n",
      "Epoch 146/200\n",
      "128/128 [==============================] - 18s 144ms/step - loss: 0.0357 - acc: 0.9884 - val_loss: 1.1885 - val_acc: 0.8438\n",
      "Epoch 147/200\n",
      "128/128 [==============================] - 18s 141ms/step - loss: 0.0313 - acc: 0.9911 - val_loss: 1.1207 - val_acc: 0.8531\n",
      "Epoch 148/200\n",
      "128/128 [==============================] - 18s 138ms/step - loss: 0.0322 - acc: 0.9905 - val_loss: 1.1188 - val_acc: 0.8544\n",
      "Epoch 149/200\n",
      "128/128 [==============================] - 18s 140ms/step - loss: 0.0357 - acc: 0.9896 - val_loss: 1.2027 - val_acc: 0.8438\n",
      "Epoch 150/200\n",
      "128/128 [==============================] - 18s 140ms/step - loss: 0.0287 - acc: 0.9914 - val_loss: 1.1674 - val_acc: 0.8481\n",
      "Epoch 151/200\n",
      "128/128 [==============================] - 18s 141ms/step - loss: 0.0342 - acc: 0.9902 - val_loss: 1.1606 - val_acc: 0.8506\n",
      "Epoch 152/200\n",
      "128/128 [==============================] - 18s 139ms/step - loss: 0.0283 - acc: 0.9919 - val_loss: 1.2165 - val_acc: 0.8444\n",
      "Epoch 153/200\n",
      "128/128 [==============================] - 18s 141ms/step - loss: 0.0281 - acc: 0.9921 - val_loss: 1.1707 - val_acc: 0.8469\n",
      "Epoch 154/200\n",
      "128/128 [==============================] - 18s 141ms/step - loss: 0.0326 - acc: 0.9910 - val_loss: 1.1396 - val_acc: 0.8531\n",
      "Epoch 155/200\n",
      "128/128 [==============================] - 18s 140ms/step - loss: 0.0291 - acc: 0.9919 - val_loss: 1.1298 - val_acc: 0.8550\n",
      "Epoch 156/200\n",
      "128/128 [==============================] - 18s 139ms/step - loss: 0.0319 - acc: 0.9901 - val_loss: 1.2259 - val_acc: 0.8450\n",
      "Epoch 157/200\n",
      "128/128 [==============================] - 18s 138ms/step - loss: 0.0297 - acc: 0.9916 - val_loss: 1.1307 - val_acc: 0.8569\n",
      "Epoch 158/200\n",
      "128/128 [==============================] - 18s 142ms/step - loss: 0.0264 - acc: 0.9921 - val_loss: 1.1677 - val_acc: 0.8531\n",
      "Epoch 159/200\n",
      "128/128 [==============================] - 18s 139ms/step - loss: 0.0268 - acc: 0.9924 - val_loss: 1.1884 - val_acc: 0.8488\n",
      "Epoch 160/200\n",
      "128/128 [==============================] - 18s 138ms/step - loss: 0.0303 - acc: 0.9906 - val_loss: 1.1719 - val_acc: 0.8525\n",
      "Epoch 161/200\n",
      "128/128 [==============================] - 18s 140ms/step - loss: 0.0324 - acc: 0.9910 - val_loss: 1.1745 - val_acc: 0.8519\n",
      "Epoch 162/200\n",
      "128/128 [==============================] - 18s 141ms/step - loss: 0.0315 - acc: 0.9911 - val_loss: 1.1518 - val_acc: 0.8556\n",
      "Epoch 163/200\n",
      "128/128 [==============================] - 18s 140ms/step - loss: 0.0270 - acc: 0.9922 - val_loss: 1.2061 - val_acc: 0.8506\n",
      "Epoch 164/200\n",
      "128/128 [==============================] - 18s 140ms/step - loss: 0.0281 - acc: 0.9916 - val_loss: 1.1963 - val_acc: 0.8494\n",
      "Epoch 165/200\n",
      "128/128 [==============================] - 18s 139ms/step - loss: 0.0286 - acc: 0.9911 - val_loss: 1.0254 - val_acc: 0.8700\n",
      "Epoch 166/200\n",
      "128/128 [==============================] - 18s 141ms/step - loss: 0.0336 - acc: 0.9900 - val_loss: 1.1443 - val_acc: 0.8544\n",
      "Epoch 167/200\n",
      "128/128 [==============================] - 18s 140ms/step - loss: 0.0268 - acc: 0.9927 - val_loss: 1.1800 - val_acc: 0.8456\n",
      "Epoch 168/200\n",
      "128/128 [==============================] - 18s 139ms/step - loss: 0.0263 - acc: 0.9924 - val_loss: 1.1916 - val_acc: 0.8519\n",
      "Epoch 169/200\n",
      "128/128 [==============================] - 18s 141ms/step - loss: 0.0305 - acc: 0.9905 - val_loss: 1.1806 - val_acc: 0.8494\n",
      "Epoch 170/200\n",
      "128/128 [==============================] - 18s 141ms/step - loss: 0.0302 - acc: 0.9907 - val_loss: 1.1419 - val_acc: 0.8575\n",
      "Epoch 171/200\n",
      "128/128 [==============================] - 18s 140ms/step - loss: 0.0298 - acc: 0.9903 - val_loss: 1.2027 - val_acc: 0.8500\n",
      "Epoch 172/200\n",
      "128/128 [==============================] - 18s 144ms/step - loss: 0.0262 - acc: 0.9922 - val_loss: 1.1691 - val_acc: 0.8556\n",
      "Epoch 173/200\n",
      "128/128 [==============================] - 18s 139ms/step - loss: 0.0274 - acc: 0.9921 - val_loss: 1.1345 - val_acc: 0.8556\n",
      "Epoch 174/200\n",
      "128/128 [==============================] - 19s 145ms/step - loss: 0.0300 - acc: 0.9910 - val_loss: 1.1611 - val_acc: 0.8556\n",
      "Epoch 175/200\n",
      "128/128 [==============================] - 18s 138ms/step - loss: 0.0296 - acc: 0.9921 - val_loss: 1.2502 - val_acc: 0.8394\n",
      "Epoch 176/200\n",
      "128/128 [==============================] - 18s 140ms/step - loss: 0.0265 - acc: 0.9921 - val_loss: 1.2007 - val_acc: 0.8494\n",
      "Epoch 177/200\n",
      "128/128 [==============================] - 18s 140ms/step - loss: 0.0277 - acc: 0.9920 - val_loss: 1.1752 - val_acc: 0.8519\n",
      "Epoch 178/200\n",
      "128/128 [==============================] - 18s 138ms/step - loss: 0.0275 - acc: 0.9911 - val_loss: 1.1992 - val_acc: 0.8494\n",
      "Epoch 179/200\n"
     ]
    },
    {
     "name": "stdout",
     "output_type": "stream",
     "text": [
      "128/128 [==============================] - 18s 139ms/step - loss: 0.0240 - acc: 0.9921 - val_loss: 1.1786 - val_acc: 0.8569\n",
      "Epoch 180/200\n",
      "128/128 [==============================] - 18s 142ms/step - loss: 0.0276 - acc: 0.9922 - val_loss: 1.1864 - val_acc: 0.8550\n",
      "Epoch 181/200\n",
      "128/128 [==============================] - 18s 139ms/step - loss: 0.0257 - acc: 0.9924 - val_loss: 1.1583 - val_acc: 0.8575\n",
      "Epoch 182/200\n",
      "128/128 [==============================] - 18s 140ms/step - loss: 0.0270 - acc: 0.9918 - val_loss: 1.1769 - val_acc: 0.8550\n",
      "Epoch 183/200\n",
      "128/128 [==============================] - 18s 139ms/step - loss: 0.0252 - acc: 0.9928 - val_loss: 1.1830 - val_acc: 0.8525\n",
      "Epoch 184/200\n",
      "128/128 [==============================] - 18s 140ms/step - loss: 0.0253 - acc: 0.9925 - val_loss: 1.2127 - val_acc: 0.8450\n",
      "Epoch 185/200\n",
      "128/128 [==============================] - 18s 141ms/step - loss: 0.0236 - acc: 0.9933 - val_loss: 1.1794 - val_acc: 0.8481\n",
      "Epoch 186/200\n",
      "128/128 [==============================] - 18s 141ms/step - loss: 0.0224 - acc: 0.9942 - val_loss: 1.1639 - val_acc: 0.8538\n",
      "Epoch 187/200\n",
      "128/128 [==============================] - 18s 139ms/step - loss: 0.0271 - acc: 0.9915 - val_loss: 1.1313 - val_acc: 0.8638\n",
      "Epoch 188/200\n",
      "128/128 [==============================] - 18s 139ms/step - loss: 0.0234 - acc: 0.9935 - val_loss: 1.1467 - val_acc: 0.8588\n",
      "Epoch 189/200\n",
      "128/128 [==============================] - 18s 141ms/step - loss: 0.0234 - acc: 0.9919 - val_loss: 1.1974 - val_acc: 0.8538\n",
      "Epoch 190/200\n",
      "128/128 [==============================] - 18s 139ms/step - loss: 0.0252 - acc: 0.9920 - val_loss: 1.1484 - val_acc: 0.8606\n",
      "Epoch 191/200\n",
      "128/128 [==============================] - 18s 139ms/step - loss: 0.0245 - acc: 0.9922 - val_loss: 1.1548 - val_acc: 0.8588\n",
      "Epoch 192/200\n",
      "128/128 [==============================] - 18s 141ms/step - loss: 0.0232 - acc: 0.9936 - val_loss: 1.1468 - val_acc: 0.8619\n",
      "Epoch 193/200\n",
      "128/128 [==============================] - 18s 141ms/step - loss: 0.0218 - acc: 0.9933 - val_loss: 1.1698 - val_acc: 0.8562\n",
      "Epoch 194/200\n",
      "128/128 [==============================] - 18s 144ms/step - loss: 0.0231 - acc: 0.9934 - val_loss: 1.2043 - val_acc: 0.8512\n",
      "Epoch 195/200\n",
      "128/128 [==============================] - 18s 141ms/step - loss: 0.0254 - acc: 0.9921 - val_loss: 1.1967 - val_acc: 0.8544\n",
      "Epoch 196/200\n",
      "128/128 [==============================] - 18s 139ms/step - loss: 0.0249 - acc: 0.9924 - val_loss: 1.1921 - val_acc: 0.8550\n",
      "Epoch 197/200\n",
      "128/128 [==============================] - 18s 139ms/step - loss: 0.0258 - acc: 0.9919 - val_loss: 1.1889 - val_acc: 0.8556\n",
      "Epoch 198/200\n",
      "128/128 [==============================] - 18s 143ms/step - loss: 0.0238 - acc: 0.9927 - val_loss: 1.2019 - val_acc: 0.8488\n",
      "Epoch 199/200\n",
      "128/128 [==============================] - 18s 140ms/step - loss: 0.0252 - acc: 0.9925 - val_loss: 1.1954 - val_acc: 0.8544\n",
      "Epoch 200/200\n",
      "128/128 [==============================] - 18s 138ms/step - loss: 0.0239 - acc: 0.9933 - val_loss: 1.2281 - val_acc: 0.8519\n"
     ]
    }
   ],
   "source": [
    "model_dropout_aug.compile(loss='categorical_crossentropy', optimizer=optimizers.Adagrad(lr=0.01), metrics=['acc'])\n",
    "history_dropout_aug = model_dropout_aug.fit_generator(train_generator_aug, \n",
    "                              steps_per_epoch=128, \n",
    "                              epochs=200, \n",
    "                              validation_data=val_generator)"
   ]
  },
  {
   "cell_type": "code",
   "execution_count": 47,
   "metadata": {},
   "outputs": [],
   "source": [
    "acc = history_dropout_aug.history['acc']\n",
    "val_acc = history_dropout_aug.history['val_acc']\n",
    "loss = history_dropout_aug.history['loss']\n",
    "val_loss = history_dropout_aug.history['val_loss']\n",
    "\n",
    "epochs = range(1, len(acc)+1)"
   ]
  },
  {
   "cell_type": "code",
   "execution_count": 48,
   "metadata": {},
   "outputs": [
    {
     "data": {
      "text/plain": [
       "<matplotlib.legend.Legend at 0x24341c7cb00>"
      ]
     },
     "execution_count": 48,
     "metadata": {},
     "output_type": "execute_result"
    },
    {
     "data": {
      "image/png": "[encoded data removed]",
      "text/plain": [
       "<Figure size 432x288 with 1 Axes>"
      ]
     },
     "metadata": {},
     "output_type": "display_data"
    }
   ],
   "source": [
    "plt.plot(epochs, acc, label='Training Acc')\n",
    "plt.plot(epochs, val_acc, label='Validation Acc')\n",
    "plt.legend()"
   ]
  },
  {
   "cell_type": "code",
   "execution_count": 49,
   "metadata": {},
   "outputs": [
    {
     "data": {
      "text/plain": [
       "<matplotlib.legend.Legend at 0x24341bcc908>"
      ]
     },
     "execution_count": 49,
     "metadata": {},
     "output_type": "execute_result"
    },
    {
     "data": {
      "image/png": "[encoded data removed]",
      "text/plain": [
       "<Figure size 432x288 with 1 Axes>"
      ]
     },
     "metadata": {},
     "output_type": "display_data"
    }
   ],
   "source": [
    "plt.plot(epochs, loss, label='Training Loss')\n",
    "plt.plot(epochs, val_loss, label='Validation Loss')\n",
    "plt.legend()"
   ]
  },
  {
   "cell_type": "code",
   "execution_count": 50,
   "metadata": {},
   "outputs": [
    {
     "data": {
      "text/plain": [
       "[1.1169185400009156, 0.84875]"
      ]
     },
     "execution_count": 50,
     "metadata": {},
     "output_type": "execute_result"
    }
   ],
   "source": [
    "model_dropout_aug.evaluate_generator(test_generator)"
   ]
  },
  {
   "cell_type": "markdown",
   "metadata": {},
   "source": [
    "## 4. 迁移学习\n",
    "\n",
    "迁移学习是将训练好的任务A（最常用的是ImageNet）的模型用于当前任务的网络的初始化，然后在自己的数据上进行微调。该方法在数据集比较小的任务上往往效果很好。\n",
    "\n",
    "```py\n",
    "keras.applications.vgg16.VGG16(include_top=True, \n",
    "            weights='imagenet', \n",
    "            input_tensor=None, \n",
    "            input_shape=None, \n",
    "            pooling=None, \n",
    "            classes=1000)\n",
    "```\n",
    "**weights**：选择初始化的数据集，执行时会自动将模型文件下载到本地，None表示随机初始化；\n",
    "\n",
    "**include_top**：由于我们的输出层和imageNet不一样，所以应该选择False；\n",
    "\n",
    "**input_shape**：输入图像的尺寸，建议和网络结构相同（VGG16是224），所以我们需要更改生成器的参数值。\n",
    "\n",
    "Keras提供用户自定义迁移学习时哪些层可以微调，哪些层不需要微调，通过layer.trainable设置\n",
    "\n",
    "Keras使用迁移学习提供的模型往往比较深，容易产生梯度消失或者梯度爆炸的问题，建议添加BN层\n",
    "\n",
    "最好的策略是选择好适合自己任务的网络后自己使用ImageNet数据集进行训练"
   ]
  },
  {
   "cell_type": "code",
   "execution_count": 19,
   "metadata": {},
   "outputs": [
    {
     "name": "stdout",
     "output_type": "stream",
     "text": [
      "Found 8594 images belonging to 80 classes.\n",
      "Found 1600 images belonging to 80 classes.\n",
      "Found 1600 images belonging to 80 classes.\n"
     ]
    }
   ],
   "source": [
    "train_generator_vgg16 = train_data_gen.flow_from_directory(train_folder, \n",
    "                                                     target_size = (224, 224), # 根据VGG16的网络结构放大了输入图片\n",
    "                                                     batch_size = 32, #OOM, 故缩小了Batch Size\n",
    "                                                     class_mode = 'categorical')\n",
    "val_generator_vgg16 = val_data_gen.flow_from_directory(val_folder, \n",
    "                                                     target_size = (224, 224), \n",
    "                                                     batch_size = 32, \n",
    "                                                     class_mode = 'categorical')\n",
    "test_generator_vgg16 = test_data_gen.flow_from_directory(test_folder, \n",
    "                                                     target_size = (224, 224), \n",
    "                                                     batch_size = 128, \n",
    "                                                     class_mode = 'categorical')"
   ]
  },
  {
   "cell_type": "markdown",
   "metadata": {},
   "source": [
    "### 4.1 先看看使用VGG-16随机初始化的结果"
   ]
  },
  {
   "cell_type": "code",
   "execution_count": 52,
   "metadata": {},
   "outputs": [
    {
     "name": "stdout",
     "output_type": "stream",
     "text": [
      "_________________________________________________________________\n",
      "Layer (type)                 Output Shape              Param #   \n",
      "=================================================================\n",
      "vgg16 (Model)                (None, 7, 7, 512)         14714688  \n",
      "_________________________________________________________________\n",
      "flatten_5 (Flatten)          (None, 25088)             0         \n",
      "_________________________________________________________________\n",
      "dense_9 (Dense)              (None, 1024)              25691136  \n",
      "_________________________________________________________________\n",
      "dropout_13 (Dropout)         (None, 1024)              0         \n",
      "_________________________________________________________________\n",
      "batch_normalization_1 (Batch (None, 1024)              4096      \n",
      "_________________________________________________________________\n",
      "dense_10 (Dense)             (None, 80)                82000     \n",
      "=================================================================\n",
      "Total params: 40,491,920\n",
      "Trainable params: 40,489,872\n",
      "Non-trainable params: 2,048\n",
      "_________________________________________________________________\n"
     ]
    }
   ],
   "source": [
    "model_rand_VGG16 = models.Sequential()\n",
    "rand_VGG16 = VGG16(weights=None, include_top=False, input_shape=(224,224,3))\n",
    "model_rand_VGG16.add(rand_VGG16)\n",
    "model_rand_VGG16.add(layers.Flatten())\n",
    "model_rand_VGG16.add(layers.Dense(1024, activation='relu'))\n",
    "model_rand_VGG16.add(layers.Dropout(0.25))\n",
    "model_rand_VGG16.add(layers.BatchNormalization()) # 梯度爆炸\n",
    "model_rand_VGG16.add(layers.Dense(80, activation='softmax'))\n",
    "model_rand_VGG16.summary()"
   ]
  },
  {
   "cell_type": "code",
   "execution_count": 53,
   "metadata": {},
   "outputs": [
    {
     "name": "stdout",
     "output_type": "stream",
     "text": [
      "Epoch 1/50\n",
      "128/128 [==============================] - 49s 386ms/step - loss: 4.2843 - acc: 0.0474 - val_loss: 6.5366 - val_acc: 0.0125\n",
      "Epoch 2/50\n",
      "128/128 [==============================] - 48s 377ms/step - loss: 3.9928 - acc: 0.0711 - val_loss: 5.5207 - val_acc: 0.0125\n",
      "Epoch 3/50\n",
      "128/128 [==============================] - 47s 369ms/step - loss: 3.8453 - acc: 0.1008 - val_loss: 4.8519 - val_acc: 0.0125\n",
      "Epoch 4/50\n",
      "128/128 [==============================] - 47s 370ms/step - loss: 3.8783 - acc: 0.0920 - val_loss: 4.6725 - val_acc: 0.0163\n",
      "Epoch 5/50\n",
      "128/128 [==============================] - 47s 371ms/step - loss: 3.5315 - acc: 0.1511 - val_loss: 4.5646 - val_acc: 0.0175\n",
      "Epoch 6/50\n",
      "128/128 [==============================] - 47s 370ms/step - loss: 3.3834 - acc: 0.1805 - val_loss: 4.4622 - val_acc: 0.0144\n",
      "Epoch 7/50\n",
      "128/128 [==============================] - 47s 370ms/step - loss: 3.1980 - acc: 0.2248 - val_loss: 4.5511 - val_acc: 0.0156\n",
      "Epoch 8/50\n",
      "128/128 [==============================] - 47s 370ms/step - loss: 2.9686 - acc: 0.2754 - val_loss: 4.1891 - val_acc: 0.0638\n",
      "Epoch 9/50\n",
      "128/128 [==============================] - 47s 370ms/step - loss: 2.7809 - acc: 0.3250 - val_loss: 4.0671 - val_acc: 0.0906\n",
      "Epoch 10/50\n",
      "128/128 [==============================] - 47s 370ms/step - loss: 2.6138 - acc: 0.3617 - val_loss: 4.2056 - val_acc: 0.0950\n",
      "Epoch 11/50\n",
      "128/128 [==============================] - 47s 370ms/step - loss: 2.3833 - acc: 0.4248 - val_loss: 3.8322 - val_acc: 0.1806\n",
      "Epoch 12/50\n",
      "128/128 [==============================] - 47s 370ms/step - loss: 2.1526 - acc: 0.4839 - val_loss: 3.6531 - val_acc: 0.2275\n",
      "Epoch 13/50\n",
      "128/128 [==============================] - 47s 369ms/step - loss: 1.9557 - acc: 0.5319 - val_loss: 3.3058 - val_acc: 0.3438\n",
      "Epoch 14/50\n",
      "128/128 [==============================] - 47s 369ms/step - loss: 1.6697 - acc: 0.6124 - val_loss: 2.4190 - val_acc: 0.4981\n",
      "Epoch 15/50\n",
      "128/128 [==============================] - 47s 370ms/step - loss: 1.5284 - acc: 0.6482 - val_loss: 3.1527 - val_acc: 0.3550\n",
      "Epoch 16/50\n",
      "128/128 [==============================] - 47s 364ms/step - loss: 1.2609 - acc: 0.7254 - val_loss: 1.9401 - val_acc: 0.5831\n",
      "Epoch 17/50\n",
      "128/128 [==============================] - 46s 361ms/step - loss: 1.1643 - acc: 0.7493 - val_loss: 1.8991 - val_acc: 0.6025\n",
      "Epoch 18/50\n",
      "128/128 [==============================] - 47s 368ms/step - loss: 0.8825 - acc: 0.8266 - val_loss: 1.9437 - val_acc: 0.6081\n",
      "Epoch 19/50\n",
      "128/128 [==============================] - 47s 369ms/step - loss: 0.8418 - acc: 0.8250 - val_loss: 1.7208 - val_acc: 0.6544\n",
      "Epoch 20/50\n",
      "128/128 [==============================] - 47s 368ms/step - loss: 0.6079 - acc: 0.8926 - val_loss: 1.4798 - val_acc: 0.6887\n",
      "Epoch 21/50\n",
      "128/128 [==============================] - 47s 369ms/step - loss: 0.5925 - acc: 0.8921 - val_loss: 1.4118 - val_acc: 0.7031\n",
      "Epoch 22/50\n",
      "128/128 [==============================] - 47s 369ms/step - loss: 0.4092 - acc: 0.9338 - val_loss: 1.5006 - val_acc: 0.6981\n",
      "Epoch 23/50\n",
      "128/128 [==============================] - 47s 368ms/step - loss: 0.3986 - acc: 0.9393 - val_loss: 1.2890 - val_acc: 0.7306\n",
      "Epoch 24/50\n",
      "128/128 [==============================] - 47s 368ms/step - loss: 0.2893 - acc: 0.9601 - val_loss: 1.3314 - val_acc: 0.7300\n",
      "Epoch 25/50\n",
      "128/128 [==============================] - 47s 369ms/step - loss: 0.2635 - acc: 0.9641 - val_loss: 1.2275 - val_acc: 0.7425\n",
      "Epoch 26/50\n",
      "128/128 [==============================] - 47s 368ms/step - loss: 0.2028 - acc: 0.9783 - val_loss: 1.2077 - val_acc: 0.7481\n",
      "Epoch 27/50\n",
      "128/128 [==============================] - 47s 369ms/step - loss: 0.1745 - acc: 0.9812 - val_loss: 1.2092 - val_acc: 0.7500\n",
      "Epoch 28/50\n",
      "128/128 [==============================] - 47s 368ms/step - loss: 0.1467 - acc: 0.9849 - val_loss: 1.2076 - val_acc: 0.7494\n",
      "Epoch 29/50\n",
      "128/128 [==============================] - 47s 369ms/step - loss: 0.1391 - acc: 0.9861 - val_loss: 1.2006 - val_acc: 0.7450\n",
      "Epoch 30/50\n",
      "128/128 [==============================] - 47s 368ms/step - loss: 0.1150 - acc: 0.9910 - val_loss: 1.1817 - val_acc: 0.7581\n",
      "Epoch 31/50\n",
      "128/128 [==============================] - 47s 369ms/step - loss: 0.0934 - acc: 0.9941 - val_loss: 1.2017 - val_acc: 0.7544\n",
      "Epoch 32/50\n",
      "128/128 [==============================] - 47s 369ms/step - loss: 0.0874 - acc: 0.9934 - val_loss: 1.1801 - val_acc: 0.7569\n",
      "Epoch 33/50\n",
      "128/128 [==============================] - 47s 369ms/step - loss: 0.0906 - acc: 0.9922 - val_loss: 1.1981 - val_acc: 0.7600\n",
      "Epoch 34/50\n",
      "128/128 [==============================] - 47s 368ms/step - loss: 0.0657 - acc: 0.9968 - val_loss: 1.1529 - val_acc: 0.7631\n",
      "Epoch 35/50\n",
      "128/128 [==============================] - 47s 369ms/step - loss: 0.0568 - acc: 0.9978 - val_loss: 1.1644 - val_acc: 0.7638\n",
      "Epoch 36/50\n",
      "128/128 [==============================] - 47s 369ms/step - loss: 0.0543 - acc: 0.9973 - val_loss: 1.1666 - val_acc: 0.7644\n",
      "Epoch 37/50\n",
      "128/128 [==============================] - 47s 369ms/step - loss: 0.0417 - acc: 0.9990 - val_loss: 1.1514 - val_acc: 0.7712\n",
      "Epoch 38/50\n",
      "128/128 [==============================] - 47s 368ms/step - loss: 0.0394 - acc: 0.9990 - val_loss: 1.1586 - val_acc: 0.7662\n",
      "Epoch 39/50\n",
      "128/128 [==============================] - 47s 369ms/step - loss: 0.0325 - acc: 0.9998 - val_loss: 1.1670 - val_acc: 0.7681\n",
      "Epoch 40/50\n",
      "128/128 [==============================] - 47s 368ms/step - loss: 0.0368 - acc: 0.9988 - val_loss: 1.1561 - val_acc: 0.7631\n",
      "Epoch 41/50\n",
      "128/128 [==============================] - 47s 369ms/step - loss: 0.0284 - acc: 0.9995 - val_loss: 1.1422 - val_acc: 0.7656\n",
      "Epoch 42/50\n",
      "128/128 [==============================] - 47s 369ms/step - loss: 0.0311 - acc: 0.9993 - val_loss: 1.1988 - val_acc: 0.7619\n",
      "Epoch 43/50\n",
      "128/128 [==============================] - 47s 369ms/step - loss: 0.0276 - acc: 0.9983 - val_loss: 1.1244 - val_acc: 0.7681\n",
      "Epoch 44/50\n",
      "128/128 [==============================] - 47s 369ms/step - loss: 0.0263 - acc: 0.9998 - val_loss: 1.1340 - val_acc: 0.7675\n",
      "Epoch 45/50\n",
      "128/128 [==============================] - 47s 368ms/step - loss: 0.0215 - acc: 0.9998 - val_loss: 1.1530 - val_acc: 0.7688\n",
      "Epoch 46/50\n",
      "128/128 [==============================] - 47s 369ms/step - loss: 0.0231 - acc: 0.9995 - val_loss: 1.1479 - val_acc: 0.7650\n",
      "Epoch 47/50\n",
      "128/128 [==============================] - 47s 370ms/step - loss: 0.0205 - acc: 0.9995 - val_loss: 1.1905 - val_acc: 0.7688\n",
      "Epoch 48/50\n",
      "128/128 [==============================] - 47s 368ms/step - loss: 0.0184 - acc: 1.0000 - val_loss: 1.1800 - val_acc: 0.7706\n",
      "Epoch 49/50\n",
      "128/128 [==============================] - 47s 369ms/step - loss: 0.0173 - acc: 0.9998 - val_loss: 1.1487 - val_acc: 0.7706\n",
      "Epoch 50/50\n",
      "128/128 [==============================] - 47s 369ms/step - loss: 0.0186 - acc: 0.9995 - val_loss: 1.1640 - val_acc: 0.7675\n"
     ]
    }
   ],
   "source": [
    "model_rand_VGG16.compile(loss='categorical_crossentropy', optimizer=optimizers.Adagrad(lr=0.01), metrics=['acc'])\n",
    "history_rand_VGG16g = model_rand_VGG16.fit_generator(train_generator_vgg16, \n",
    "                              steps_per_epoch=128, \n",
    "                              epochs=50, \n",
    "                              validation_data = val_generator_vgg16)"
   ]
  },
  {
   "cell_type": "code",
   "execution_count": 54,
   "metadata": {},
   "outputs": [],
   "source": [
    "acc = history_rand_VGG16g.history['acc']\n",
    "val_acc = history_rand_VGG16g.history['val_acc']\n",
    "loss = history_rand_VGG16g.history['loss']\n",
    "val_loss = history_rand_VGG16g.history['val_loss']\n",
    "\n",
    "epochs = range(1, len(acc)+1)"
   ]
  },
  {
   "cell_type": "code",
   "execution_count": 55,
   "metadata": {},
   "outputs": [
    {
     "data": {
      "text/plain": [
       "<matplotlib.legend.Legend at 0x2434541eac8>"
      ]
     },
     "execution_count": 55,
     "metadata": {},
     "output_type": "execute_result"
    },
    {
     "data": {
      "image/png": "[encoded data removed]",
      "text/plain": [
       "<Figure size 432x288 with 1 Axes>"
      ]
     },
     "metadata": {},
     "output_type": "display_data"
    }
   ],
   "source": [
    "plt.plot(epochs, acc, label='Training Acc')\n",
    "plt.plot(epochs, val_acc, label='Validation Acc')\n",
    "plt.legend()"
   ]
  },
  {
   "cell_type": "code",
   "execution_count": 56,
   "metadata": {},
   "outputs": [
    {
     "data": {
      "text/plain": [
       "<matplotlib.legend.Legend at 0x24345398550>"
      ]
     },
     "execution_count": 56,
     "metadata": {},
     "output_type": "execute_result"
    },
    {
     "data": {
      "image/png": "[encoded data removed]",
      "text/plain": [
       "<Figure size 432x288 with 1 Axes>"
      ]
     },
     "metadata": {},
     "output_type": "display_data"
    }
   ],
   "source": [
    "plt.plot(epochs, loss, label='Training Loss')\n",
    "plt.plot(epochs, val_loss, label='Validation Loss')\n",
    "plt.legend()"
   ]
  },
  {
   "cell_type": "code",
   "execution_count": 57,
   "metadata": {},
   "outputs": [
    {
     "data": {
      "text/plain": [
       "[1.1671059846878051, 0.75375]"
      ]
     },
     "execution_count": 57,
     "metadata": {},
     "output_type": "execute_result"
    }
   ],
   "source": [
    "model_rand_VGG16.evaluate_generator(test_generator_vgg16)"
   ]
  },
  {
   "cell_type": "markdown",
   "metadata": {},
   "source": [
    "### 4.2 train VGG16 with transfer learning"
   ]
  },
  {
   "cell_type": "code",
   "execution_count": 58,
   "metadata": {},
   "outputs": [
    {
     "name": "stdout",
     "output_type": "stream",
     "text": [
      "_________________________________________________________________\n",
      "Layer (type)                 Output Shape              Param #   \n",
      "=================================================================\n",
      "vgg16 (Model)                (None, 7, 7, 512)         14714688  \n",
      "_________________________________________________________________\n",
      "flatten_6 (Flatten)          (None, 25088)             0         \n",
      "_________________________________________________________________\n",
      "dense_11 (Dense)             (None, 1024)              25691136  \n",
      "_________________________________________________________________\n",
      "batch_normalization_2 (Batch (None, 1024)              4096      \n",
      "_________________________________________________________________\n",
      "dropout_14 (Dropout)         (None, 1024)              0         \n",
      "_________________________________________________________________\n",
      "dense_12 (Dense)             (None, 80)                82000     \n",
      "=================================================================\n",
      "Total params: 40,491,920\n",
      "Trainable params: 40,489,872\n",
      "Non-trainable params: 2,048\n",
      "_________________________________________________________________\n"
     ]
    }
   ],
   "source": [
    "model_trans_VGG16 = models.Sequential()\n",
    "trans_VGG16 = VGG16(weights='imagenet', include_top=False, input_shape=(224,224,3))\n",
    "model_trans_VGG16.add(trans_VGG16)\n",
    "model_trans_VGG16.add(layers.Flatten())\n",
    "model_trans_VGG16.add(layers.Dense(1024, activation='relu'))\n",
    "model_trans_VGG16.add(layers.BatchNormalization())\n",
    "model_trans_VGG16.add(layers.Dropout(0.25))\n",
    "model_trans_VGG16.add(layers.Dense(80, activation='softmax'))\n",
    "model_trans_VGG16.summary()"
   ]
  },
  {
   "cell_type": "code",
   "execution_count": 59,
   "metadata": {},
   "outputs": [
    {
     "name": "stdout",
     "output_type": "stream",
     "text": [
      "Epoch 1/50\n",
      "128/128 [==============================] - 47s 366ms/step - loss: 4.1120 - acc: 0.0583 - val_loss: 8.6942 - val_acc: 0.0225\n",
      "Epoch 2/50\n",
      "128/128 [==============================] - 46s 359ms/step - loss: 3.7543 - acc: 0.0988 - val_loss: 8.4382 - val_acc: 0.0275\n",
      "Epoch 3/50\n",
      "128/128 [==============================] - 46s 361ms/step - loss: 3.6002 - acc: 0.1277 - val_loss: 10.4969 - val_acc: 0.0125\n",
      "Epoch 4/50\n",
      "128/128 [==============================] - 46s 360ms/step - loss: 3.2733 - acc: 0.1963 - val_loss: 15.9065 - val_acc: 0.0131\n",
      "Epoch 5/50\n",
      "128/128 [==============================] - 46s 361ms/step - loss: 2.8573 - acc: 0.2963 - val_loss: 6.3879 - val_acc: 0.0325\n",
      "Epoch 6/50\n",
      "128/128 [==============================] - 46s 361ms/step - loss: 2.6319 - acc: 0.3477 - val_loss: 5.1853 - val_acc: 0.0769\n",
      "Epoch 7/50\n",
      "128/128 [==============================] - 46s 361ms/step - loss: 2.2308 - acc: 0.4402 - val_loss: 3.9227 - val_acc: 0.1713\n",
      "Epoch 8/50\n",
      "128/128 [==============================] - 46s 362ms/step - loss: 2.0155 - acc: 0.4973 - val_loss: 3.2648 - val_acc: 0.2644\n",
      "Epoch 9/50\n",
      "128/128 [==============================] - 46s 360ms/step - loss: 1.6767 - acc: 0.5879 - val_loss: 2.9129 - val_acc: 0.3281\n",
      "Epoch 10/50\n",
      "128/128 [==============================] - 46s 361ms/step - loss: 1.5379 - acc: 0.6241 - val_loss: 2.0675 - val_acc: 0.5219\n",
      "Epoch 11/50\n",
      "128/128 [==============================] - 49s 382ms/step - loss: 1.2569 - acc: 0.7002 - val_loss: 2.3437 - val_acc: 0.4756\n",
      "Epoch 12/50\n",
      "128/128 [==============================] - 47s 370ms/step - loss: 1.0462 - acc: 0.7581 - val_loss: 2.0661 - val_acc: 0.5481\n",
      "Epoch 13/50\n",
      "128/128 [==============================] - 48s 372ms/step - loss: 0.8432 - acc: 0.8076 - val_loss: 2.9008 - val_acc: 0.4113\n",
      "Epoch 14/50\n",
      "128/128 [==============================] - 48s 371ms/step - loss: 0.6685 - acc: 0.8589 - val_loss: 1.5945 - val_acc: 0.6775\n",
      "Epoch 15/50\n",
      "128/128 [==============================] - 48s 372ms/step - loss: 0.5490 - acc: 0.8884 - val_loss: 1.7084 - val_acc: 0.6462\n",
      "Epoch 16/50\n",
      "128/128 [==============================] - 48s 372ms/step - loss: 0.3645 - acc: 0.9315 - val_loss: 1.4251 - val_acc: 0.7063\n",
      "Epoch 17/50\n",
      "128/128 [==============================] - 48s 373ms/step - loss: 0.3327 - acc: 0.9387 - val_loss: 1.7377 - val_acc: 0.6469\n",
      "Epoch 18/50\n",
      "128/128 [==============================] - 48s 372ms/step - loss: 0.1971 - acc: 0.9749 - val_loss: 1.3017 - val_acc: 0.7519\n",
      "Epoch 19/50\n",
      "128/128 [==============================] - 48s 371ms/step - loss: 0.1837 - acc: 0.9731 - val_loss: 1.1325 - val_acc: 0.7775\n",
      "Epoch 20/50\n",
      "128/128 [==============================] - 48s 372ms/step - loss: 0.0973 - acc: 0.9934 - val_loss: 1.2572 - val_acc: 0.7594\n",
      "Epoch 21/50\n",
      "128/128 [==============================] - 48s 373ms/step - loss: 0.0999 - acc: 0.9917 - val_loss: 1.0823 - val_acc: 0.7769\n",
      "Epoch 22/50\n",
      "128/128 [==============================] - 48s 373ms/step - loss: 0.0583 - acc: 0.9978 - val_loss: 1.1923 - val_acc: 0.7688\n",
      "Epoch 23/50\n",
      "128/128 [==============================] - 48s 371ms/step - loss: 0.0566 - acc: 0.9983 - val_loss: 1.1672 - val_acc: 0.7762\n",
      "Epoch 24/50\n",
      "128/128 [==============================] - 48s 371ms/step - loss: 0.0363 - acc: 0.9983 - val_loss: 1.0945 - val_acc: 0.7812\n",
      "Epoch 25/50\n",
      "128/128 [==============================] - 48s 372ms/step - loss: 0.0390 - acc: 0.9983 - val_loss: 1.1188 - val_acc: 0.7769\n",
      "Epoch 26/50\n",
      "128/128 [==============================] - 48s 372ms/step - loss: 0.0309 - acc: 0.9993 - val_loss: 1.1004 - val_acc: 0.7750\n",
      "Epoch 27/50\n",
      "128/128 [==============================] - 48s 372ms/step - loss: 0.0249 - acc: 0.9998 - val_loss: 1.1093 - val_acc: 0.7744\n",
      "Epoch 28/50\n",
      "128/128 [==============================] - 48s 372ms/step - loss: 0.0242 - acc: 0.9993 - val_loss: 1.1277 - val_acc: 0.7762\n",
      "Epoch 29/50\n",
      "128/128 [==============================] - 48s 371ms/step - loss: 0.0188 - acc: 1.0000 - val_loss: 1.0988 - val_acc: 0.7775\n",
      "Epoch 30/50\n",
      "128/128 [==============================] - 48s 372ms/step - loss: 0.0163 - acc: 0.9998 - val_loss: 1.1034 - val_acc: 0.7756\n",
      "Epoch 31/50\n",
      "128/128 [==============================] - 48s 372ms/step - loss: 0.0161 - acc: 0.9993 - val_loss: 1.1116 - val_acc: 0.7788\n",
      "Epoch 32/50\n",
      "128/128 [==============================] - 48s 372ms/step - loss: 0.0134 - acc: 1.0000 - val_loss: 1.0978 - val_acc: 0.7769\n",
      "Epoch 33/50\n",
      "128/128 [==============================] - 48s 373ms/step - loss: 0.0127 - acc: 0.9998 - val_loss: 1.1035 - val_acc: 0.7769\n",
      "Epoch 34/50\n",
      "128/128 [==============================] - 48s 372ms/step - loss: 0.0114 - acc: 1.0000 - val_loss: 1.1202 - val_acc: 0.7769\n",
      "Epoch 35/50\n",
      "128/128 [==============================] - 48s 372ms/step - loss: 0.0099 - acc: 1.0000 - val_loss: 1.1079 - val_acc: 0.7788\n",
      "Epoch 36/50\n",
      "128/128 [==============================] - 48s 372ms/step - loss: 0.0106 - acc: 0.9995 - val_loss: 1.1269 - val_acc: 0.7794\n",
      "Epoch 37/50\n",
      "128/128 [==============================] - 48s 373ms/step - loss: 0.0091 - acc: 1.0000 - val_loss: 1.1235 - val_acc: 0.7775\n",
      "Epoch 38/50\n",
      "128/128 [==============================] - 48s 371ms/step - loss: 0.0091 - acc: 0.9998 - val_loss: 1.1433 - val_acc: 0.7756\n",
      "Epoch 39/50\n",
      "128/128 [==============================] - 48s 373ms/step - loss: 0.0091 - acc: 0.9995 - val_loss: 1.1269 - val_acc: 0.7769\n",
      "Epoch 40/50\n",
      "128/128 [==============================] - 47s 371ms/step - loss: 0.0074 - acc: 1.0000 - val_loss: 1.1275 - val_acc: 0.7762\n",
      "Epoch 41/50\n",
      "128/128 [==============================] - 48s 371ms/step - loss: 0.0090 - acc: 0.9995 - val_loss: 1.1544 - val_acc: 0.7775\n",
      "Epoch 42/50\n",
      "128/128 [==============================] - 48s 372ms/step - loss: 0.0065 - acc: 1.0000 - val_loss: 1.1176 - val_acc: 0.7769\n",
      "Epoch 43/50\n",
      "128/128 [==============================] - 48s 371ms/step - loss: 0.0065 - acc: 0.9998 - val_loss: 1.1525 - val_acc: 0.7788\n",
      "Epoch 44/50\n",
      "128/128 [==============================] - 48s 373ms/step - loss: 0.0058 - acc: 1.0000 - val_loss: 1.1510 - val_acc: 0.7756\n",
      "Epoch 45/50\n",
      "128/128 [==============================] - 48s 372ms/step - loss: 0.0073 - acc: 0.9995 - val_loss: 1.1562 - val_acc: 0.7769\n",
      "Epoch 46/50\n",
      "128/128 [==============================] - 48s 373ms/step - loss: 0.0052 - acc: 1.0000 - val_loss: 1.1554 - val_acc: 0.7788\n",
      "Epoch 47/50\n",
      "128/128 [==============================] - 48s 372ms/step - loss: 0.0056 - acc: 0.9998 - val_loss: 1.1685 - val_acc: 0.7781\n",
      "Epoch 48/50\n",
      "128/128 [==============================] - 48s 371ms/step - loss: 0.0047 - acc: 1.0000 - val_loss: 1.1667 - val_acc: 0.7794\n",
      "Epoch 49/50\n",
      "128/128 [==============================] - 48s 372ms/step - loss: 0.0061 - acc: 0.9995 - val_loss: 1.1347 - val_acc: 0.7800\n",
      "Epoch 50/50\n",
      "128/128 [==============================] - 48s 372ms/step - loss: 0.0050 - acc: 0.9998 - val_loss: 1.1522 - val_acc: 0.7794\n"
     ]
    }
   ],
   "source": [
    "model_trans_VGG16.compile(loss='categorical_crossentropy', optimizer=optimizers.Adagrad(lr=0.01), metrics=['acc'])\n",
    "history_trans_VGG16g = model_trans_VGG16.fit_generator(train_generator_vgg16, \n",
    "                              steps_per_epoch=128, \n",
    "                              epochs=50, \n",
    "                              validation_data = val_generator_vgg16)"
   ]
  },
  {
   "cell_type": "code",
   "execution_count": 60,
   "metadata": {},
   "outputs": [],
   "source": [
    "acc = history_trans_VGG16g.history['acc']\n",
    "val_acc = history_trans_VGG16g.history['val_acc']\n",
    "loss = history_trans_VGG16g.history['loss']\n",
    "val_loss = history_trans_VGG16g.history['val_loss']\n",
    "\n",
    "epochs = range(1, len(acc)+1)"
   ]
  },
  {
   "cell_type": "code",
   "execution_count": 61,
   "metadata": {},
   "outputs": [
    {
     "data": {
      "text/plain": [
       "<matplotlib.legend.Legend at 0x2434c304cf8>"
      ]
     },
     "execution_count": 61,
     "metadata": {},
     "output_type": "execute_result"
    },
    {
     "data": {
      "image/png": "[encoded data removed]",
      "text/plain": [
       "<Figure size 432x288 with 1 Axes>"
      ]
     },
     "metadata": {},
     "output_type": "display_data"
    }
   ],
   "source": [
    "plt.plot(epochs, acc, label='Training Acc')\n",
    "plt.plot(epochs, val_acc, label='Validation Acc')\n",
    "plt.legend()"
   ]
  },
  {
   "cell_type": "code",
   "execution_count": 62,
   "metadata": {},
   "outputs": [
    {
     "data": {
      "text/plain": [
       "<matplotlib.legend.Legend at 0x2434c3585f8>"
      ]
     },
     "execution_count": 62,
     "metadata": {},
     "output_type": "execute_result"
    },
    {
     "data": {
      "image/png": "[encoded data removed]",
      "text/plain": [
       "<Figure size 432x288 with 1 Axes>"
      ]
     },
     "metadata": {},
     "output_type": "display_data"
    }
   ],
   "source": [
    "plt.plot(epochs, acc, label='Training Acc')\n",
    "plt.plot(epochs, val_acc, label='Validation Acc')\n",
    "plt.legend()"
   ]
  },
  {
   "cell_type": "code",
   "execution_count": 63,
   "metadata": {},
   "outputs": [
    {
     "data": {
      "text/plain": [
       "[1.1362817412614823, 0.774375]"
      ]
     },
     "execution_count": 63,
     "metadata": {},
     "output_type": "execute_result"
    }
   ],
   "source": [
    "model_trans_VGG16.evaluate_generator(test_generator_vgg16)"
   ]
  },
  {
   "cell_type": "markdown",
   "metadata": {},
   "source": [
    "### 4.3 将VGG16固定为特征提取器\n",
    "\n",
    "有时很我们需要冻结迁移学习的模型：如果一个模型是经过预训练的而另一部分随机初始化的，那么在训练期间将预训练的模型冻结可以**防止由于随机初始化的层产生的较大的梯度破坏已经训练好的特征提取器**"
   ]
  },
  {
   "cell_type": "code",
   "execution_count": 4,
   "metadata": {},
   "outputs": [
    {
     "name": "stdout",
     "output_type": "stream",
     "text": [
      "Downloading data from https://github.com/fchollet/deep-learning-models/releases/download/v0.1/vgg16_weights_tf_dim_ordering_tf_kernels_notop.h5\n",
      "11599872/58889256 [====>.........................] - ETA: 1:37"
     ]
    },
    {
     "ename": "KeyboardInterrupt",
     "evalue": "",
     "output_type": "error",
     "traceback": [
      "\u001b[0;31m---------------------------------------------------------------------------\u001b[0m",
      "\u001b[0;31mKeyboardInterrupt\u001b[0m                         Traceback (most recent call last)",
      "\u001b[0;32m<ipython-input-4-47807a836257>\u001b[0m in \u001b[0;36m<module>\u001b[0;34m()\u001b[0m\n\u001b[1;32m      1\u001b[0m \u001b[0mmodel_trans_VGG16_fixed\u001b[0m \u001b[0;34m=\u001b[0m \u001b[0mmodels\u001b[0m\u001b[0;34m.\u001b[0m\u001b[0mSequential\u001b[0m\u001b[0;34m(\u001b[0m\u001b[0;34m)\u001b[0m\u001b[0;34m\u001b[0m\u001b[0m\n\u001b[0;32m----> 2\u001b[0;31m \u001b[0mtrans_VGG16\u001b[0m \u001b[0;34m=\u001b[0m \u001b[0mVGG16\u001b[0m\u001b[0;34m(\u001b[0m\u001b[0mweights\u001b[0m\u001b[0;34m=\u001b[0m\u001b[0;34m'imagenet'\u001b[0m\u001b[0;34m,\u001b[0m \u001b[0minclude_top\u001b[0m\u001b[0;34m=\u001b[0m\u001b[0;32mFalse\u001b[0m\u001b[0;34m,\u001b[0m \u001b[0minput_shape\u001b[0m\u001b[0;34m=\u001b[0m\u001b[0;34m(\u001b[0m\u001b[0;36m224\u001b[0m\u001b[0;34m,\u001b[0m\u001b[0;36m224\u001b[0m\u001b[0;34m,\u001b[0m\u001b[0;36m3\u001b[0m\u001b[0;34m)\u001b[0m\u001b[0;34m)\u001b[0m\u001b[0;34m\u001b[0m\u001b[0m\n\u001b[0m\u001b[1;32m      3\u001b[0m \u001b[0mmodel_trans_VGG16_fixed\u001b[0m\u001b[0;34m.\u001b[0m\u001b[0madd\u001b[0m\u001b[0;34m(\u001b[0m\u001b[0mtrans_VGG16\u001b[0m\u001b[0;34m)\u001b[0m\u001b[0;34m\u001b[0m\u001b[0m\n\u001b[1;32m      4\u001b[0m \u001b[0mmodel_trans_VGG16_fixed\u001b[0m\u001b[0;34m.\u001b[0m\u001b[0madd\u001b[0m\u001b[0;34m(\u001b[0m\u001b[0mlayers\u001b[0m\u001b[0;34m.\u001b[0m\u001b[0mFlatten\u001b[0m\u001b[0;34m(\u001b[0m\u001b[0;34m)\u001b[0m\u001b[0;34m)\u001b[0m\u001b[0;34m\u001b[0m\u001b[0m\n\u001b[1;32m      5\u001b[0m \u001b[0mmodel_trans_VGG16_fixed\u001b[0m\u001b[0;34m.\u001b[0m\u001b[0madd\u001b[0m\u001b[0;34m(\u001b[0m\u001b[0mlayers\u001b[0m\u001b[0;34m.\u001b[0m\u001b[0mDense\u001b[0m\u001b[0;34m(\u001b[0m\u001b[0;36m1024\u001b[0m\u001b[0;34m,\u001b[0m \u001b[0mactivation\u001b[0m\u001b[0;34m=\u001b[0m\u001b[0;34m'relu'\u001b[0m\u001b[0;34m)\u001b[0m\u001b[0;34m)\u001b[0m\u001b[0;34m\u001b[0m\u001b[0m\n",
      "\u001b[0;32m/usr/local/lib/python3.6/site-packages/keras/applications/vgg16.py\u001b[0m in \u001b[0;36mVGG16\u001b[0;34m(include_top, weights, input_tensor, input_shape, pooling, classes)\u001b[0m\n\u001b[1;32m    173\u001b[0m                                     \u001b[0mWEIGHTS_PATH_NO_TOP\u001b[0m\u001b[0;34m,\u001b[0m\u001b[0;34m\u001b[0m\u001b[0m\n\u001b[1;32m    174\u001b[0m                                     \u001b[0mcache_subdir\u001b[0m\u001b[0;34m=\u001b[0m\u001b[0;34m'models'\u001b[0m\u001b[0;34m,\u001b[0m\u001b[0;34m\u001b[0m\u001b[0m\n\u001b[0;32m--> 175\u001b[0;31m                                     file_hash='6d6bbae143d832006294945121d1f1fc')\n\u001b[0m\u001b[1;32m    176\u001b[0m         \u001b[0mmodel\u001b[0m\u001b[0;34m.\u001b[0m\u001b[0mload_weights\u001b[0m\u001b[0;34m(\u001b[0m\u001b[0mweights_path\u001b[0m\u001b[0;34m)\u001b[0m\u001b[0;34m\u001b[0m\u001b[0m\n\u001b[1;32m    177\u001b[0m         \u001b[0;32mif\u001b[0m \u001b[0mK\u001b[0m\u001b[0;34m.\u001b[0m\u001b[0mbackend\u001b[0m\u001b[0;34m(\u001b[0m\u001b[0;34m)\u001b[0m \u001b[0;34m==\u001b[0m \u001b[0;34m'theano'\u001b[0m\u001b[0;34m:\u001b[0m\u001b[0;34m\u001b[0m\u001b[0m\n",
      "\u001b[0;32m/usr/local/lib/python3.6/site-packages/keras/utils/data_utils.py\u001b[0m in \u001b[0;36mget_file\u001b[0;34m(fname, origin, untar, md5_hash, file_hash, cache_subdir, hash_algorithm, extract, archive_format, cache_dir)\u001b[0m\n\u001b[1;32m    220\u001b[0m         \u001b[0;32mtry\u001b[0m\u001b[0;34m:\u001b[0m\u001b[0;34m\u001b[0m\u001b[0m\n\u001b[1;32m    221\u001b[0m             \u001b[0;32mtry\u001b[0m\u001b[0;34m:\u001b[0m\u001b[0;34m\u001b[0m\u001b[0m\n\u001b[0;32m--> 222\u001b[0;31m                 \u001b[0murlretrieve\u001b[0m\u001b[0;34m(\u001b[0m\u001b[0morigin\u001b[0m\u001b[0;34m,\u001b[0m \u001b[0mfpath\u001b[0m\u001b[0;34m,\u001b[0m \u001b[0mdl_progress\u001b[0m\u001b[0;34m)\u001b[0m\u001b[0;34m\u001b[0m\u001b[0m\n\u001b[0m\u001b[1;32m    223\u001b[0m             \u001b[0;32mexcept\u001b[0m \u001b[0mURLError\u001b[0m \u001b[0;32mas\u001b[0m \u001b[0me\u001b[0m\u001b[0;34m:\u001b[0m\u001b[0;34m\u001b[0m\u001b[0m\n\u001b[1;32m    224\u001b[0m                 \u001b[0;32mraise\u001b[0m \u001b[0mException\u001b[0m\u001b[0;34m(\u001b[0m\u001b[0merror_msg\u001b[0m\u001b[0;34m.\u001b[0m\u001b[0mformat\u001b[0m\u001b[0;34m(\u001b[0m\u001b[0morigin\u001b[0m\u001b[0;34m,\u001b[0m \u001b[0me\u001b[0m\u001b[0;34m.\u001b[0m\u001b[0merrno\u001b[0m\u001b[0;34m,\u001b[0m \u001b[0me\u001b[0m\u001b[0;34m.\u001b[0m\u001b[0mreason\u001b[0m\u001b[0;34m)\u001b[0m\u001b[0;34m)\u001b[0m\u001b[0;34m\u001b[0m\u001b[0m\n",
      "\u001b[0;32m/usr/local/Cellar/python/3.6.5/Frameworks/Python.framework/Versions/3.6/lib/python3.6/urllib/request.py\u001b[0m in \u001b[0;36murlretrieve\u001b[0;34m(url, filename, reporthook, data)\u001b[0m\n\u001b[1;32m    275\u001b[0m \u001b[0;34m\u001b[0m\u001b[0m\n\u001b[1;32m    276\u001b[0m             \u001b[0;32mwhile\u001b[0m \u001b[0;32mTrue\u001b[0m\u001b[0;34m:\u001b[0m\u001b[0;34m\u001b[0m\u001b[0m\n\u001b[0;32m--> 277\u001b[0;31m                 \u001b[0mblock\u001b[0m \u001b[0;34m=\u001b[0m \u001b[0mfp\u001b[0m\u001b[0;34m.\u001b[0m\u001b[0mread\u001b[0m\u001b[0;34m(\u001b[0m\u001b[0mbs\u001b[0m\u001b[0;34m)\u001b[0m\u001b[0;34m\u001b[0m\u001b[0m\n\u001b[0m\u001b[1;32m    278\u001b[0m                 \u001b[0;32mif\u001b[0m \u001b[0;32mnot\u001b[0m \u001b[0mblock\u001b[0m\u001b[0;34m:\u001b[0m\u001b[0;34m\u001b[0m\u001b[0m\n\u001b[1;32m    279\u001b[0m                     \u001b[0;32mbreak\u001b[0m\u001b[0;34m\u001b[0m\u001b[0m\n",
      "\u001b[0;32m/usr/local/Cellar/python/3.6.5/Frameworks/Python.framework/Versions/3.6/lib/python3.6/http/client.py\u001b[0m in \u001b[0;36mread\u001b[0;34m(self, amt)\u001b[0m\n\u001b[1;32m    447\u001b[0m             \u001b[0;31m# Amount is given, implement using readinto\u001b[0m\u001b[0;34m\u001b[0m\u001b[0;34m\u001b[0m\u001b[0m\n\u001b[1;32m    448\u001b[0m             \u001b[0mb\u001b[0m \u001b[0;34m=\u001b[0m \u001b[0mbytearray\u001b[0m\u001b[0;34m(\u001b[0m\u001b[0mamt\u001b[0m\u001b[0;34m)\u001b[0m\u001b[0;34m\u001b[0m\u001b[0m\n\u001b[0;32m--> 449\u001b[0;31m             \u001b[0mn\u001b[0m \u001b[0;34m=\u001b[0m \u001b[0mself\u001b[0m\u001b[0;34m.\u001b[0m\u001b[0mreadinto\u001b[0m\u001b[0;34m(\u001b[0m\u001b[0mb\u001b[0m\u001b[0;34m)\u001b[0m\u001b[0;34m\u001b[0m\u001b[0m\n\u001b[0m\u001b[1;32m    450\u001b[0m             \u001b[0;32mreturn\u001b[0m \u001b[0mmemoryview\u001b[0m\u001b[0;34m(\u001b[0m\u001b[0mb\u001b[0m\u001b[0;34m)\u001b[0m\u001b[0;34m[\u001b[0m\u001b[0;34m:\u001b[0m\u001b[0mn\u001b[0m\u001b[0;34m]\u001b[0m\u001b[0;34m.\u001b[0m\u001b[0mtobytes\u001b[0m\u001b[0;34m(\u001b[0m\u001b[0;34m)\u001b[0m\u001b[0;34m\u001b[0m\u001b[0m\n\u001b[1;32m    451\u001b[0m         \u001b[0;32melse\u001b[0m\u001b[0;34m:\u001b[0m\u001b[0;34m\u001b[0m\u001b[0m\n",
      "\u001b[0;32m/usr/local/Cellar/python/3.6.5/Frameworks/Python.framework/Versions/3.6/lib/python3.6/http/client.py\u001b[0m in \u001b[0;36mreadinto\u001b[0;34m(self, b)\u001b[0m\n\u001b[1;32m    491\u001b[0m         \u001b[0;31m# connection, and the user is reading more bytes than will be provided\u001b[0m\u001b[0;34m\u001b[0m\u001b[0;34m\u001b[0m\u001b[0m\n\u001b[1;32m    492\u001b[0m         \u001b[0;31m# (for example, reading in 1k chunks)\u001b[0m\u001b[0;34m\u001b[0m\u001b[0;34m\u001b[0m\u001b[0m\n\u001b[0;32m--> 493\u001b[0;31m         \u001b[0mn\u001b[0m \u001b[0;34m=\u001b[0m \u001b[0mself\u001b[0m\u001b[0;34m.\u001b[0m\u001b[0mfp\u001b[0m\u001b[0;34m.\u001b[0m\u001b[0mreadinto\u001b[0m\u001b[0;34m(\u001b[0m\u001b[0mb\u001b[0m\u001b[0;34m)\u001b[0m\u001b[0;34m\u001b[0m\u001b[0m\n\u001b[0m\u001b[1;32m    494\u001b[0m         \u001b[0;32mif\u001b[0m \u001b[0;32mnot\u001b[0m \u001b[0mn\u001b[0m \u001b[0;32mand\u001b[0m \u001b[0mb\u001b[0m\u001b[0;34m:\u001b[0m\u001b[0;34m\u001b[0m\u001b[0m\n\u001b[1;32m    495\u001b[0m             \u001b[0;31m# Ideally, we would raise IncompleteRead if the content-length\u001b[0m\u001b[0;34m\u001b[0m\u001b[0;34m\u001b[0m\u001b[0m\n",
      "\u001b[0;32m/usr/local/Cellar/python/3.6.5/Frameworks/Python.framework/Versions/3.6/lib/python3.6/socket.py\u001b[0m in \u001b[0;36mreadinto\u001b[0;34m(self, b)\u001b[0m\n\u001b[1;32m    584\u001b[0m         \u001b[0;32mwhile\u001b[0m \u001b[0;32mTrue\u001b[0m\u001b[0;34m:\u001b[0m\u001b[0;34m\u001b[0m\u001b[0m\n\u001b[1;32m    585\u001b[0m             \u001b[0;32mtry\u001b[0m\u001b[0;34m:\u001b[0m\u001b[0;34m\u001b[0m\u001b[0m\n\u001b[0;32m--> 586\u001b[0;31m                 \u001b[0;32mreturn\u001b[0m \u001b[0mself\u001b[0m\u001b[0;34m.\u001b[0m\u001b[0m_sock\u001b[0m\u001b[0;34m.\u001b[0m\u001b[0mrecv_into\u001b[0m\u001b[0;34m(\u001b[0m\u001b[0mb\u001b[0m\u001b[0;34m)\u001b[0m\u001b[0;34m\u001b[0m\u001b[0m\n\u001b[0m\u001b[1;32m    587\u001b[0m             \u001b[0;32mexcept\u001b[0m \u001b[0mtimeout\u001b[0m\u001b[0;34m:\u001b[0m\u001b[0;34m\u001b[0m\u001b[0m\n\u001b[1;32m    588\u001b[0m                 \u001b[0mself\u001b[0m\u001b[0;34m.\u001b[0m\u001b[0m_timeout_occurred\u001b[0m \u001b[0;34m=\u001b[0m \u001b[0;32mTrue\u001b[0m\u001b[0;34m\u001b[0m\u001b[0m\n",
      "\u001b[0;32m/usr/local/Cellar/python/3.6.5/Frameworks/Python.framework/Versions/3.6/lib/python3.6/ssl.py\u001b[0m in \u001b[0;36mrecv_into\u001b[0;34m(self, buffer, nbytes, flags)\u001b[0m\n\u001b[1;32m   1007\u001b[0m                   \u001b[0;34m\"non-zero flags not allowed in calls to recv_into() on %s\"\u001b[0m \u001b[0;34m%\u001b[0m\u001b[0;34m\u001b[0m\u001b[0m\n\u001b[1;32m   1008\u001b[0m                   self.__class__)\n\u001b[0;32m-> 1009\u001b[0;31m             \u001b[0;32mreturn\u001b[0m \u001b[0mself\u001b[0m\u001b[0;34m.\u001b[0m\u001b[0mread\u001b[0m\u001b[0;34m(\u001b[0m\u001b[0mnbytes\u001b[0m\u001b[0;34m,\u001b[0m \u001b[0mbuffer\u001b[0m\u001b[0;34m)\u001b[0m\u001b[0;34m\u001b[0m\u001b[0m\n\u001b[0m\u001b[1;32m   1010\u001b[0m         \u001b[0;32melse\u001b[0m\u001b[0;34m:\u001b[0m\u001b[0;34m\u001b[0m\u001b[0m\n\u001b[1;32m   1011\u001b[0m             \u001b[0;32mreturn\u001b[0m \u001b[0msocket\u001b[0m\u001b[0;34m.\u001b[0m\u001b[0mrecv_into\u001b[0m\u001b[0;34m(\u001b[0m\u001b[0mself\u001b[0m\u001b[0;34m,\u001b[0m \u001b[0mbuffer\u001b[0m\u001b[0;34m,\u001b[0m \u001b[0mnbytes\u001b[0m\u001b[0;34m,\u001b[0m \u001b[0mflags\u001b[0m\u001b[0;34m)\u001b[0m\u001b[0;34m\u001b[0m\u001b[0m\n",
      "\u001b[0;32m/usr/local/Cellar/python/3.6.5/Frameworks/Python.framework/Versions/3.6/lib/python3.6/ssl.py\u001b[0m in \u001b[0;36mread\u001b[0;34m(self, len, buffer)\u001b[0m\n\u001b[1;32m    869\u001b[0m             \u001b[0;32mraise\u001b[0m \u001b[0mValueError\u001b[0m\u001b[0;34m(\u001b[0m\u001b[0;34m\"Read on closed or unwrapped SSL socket.\"\u001b[0m\u001b[0;34m)\u001b[0m\u001b[0;34m\u001b[0m\u001b[0m\n\u001b[1;32m    870\u001b[0m         \u001b[0;32mtry\u001b[0m\u001b[0;34m:\u001b[0m\u001b[0;34m\u001b[0m\u001b[0m\n\u001b[0;32m--> 871\u001b[0;31m             \u001b[0;32mreturn\u001b[0m \u001b[0mself\u001b[0m\u001b[0;34m.\u001b[0m\u001b[0m_sslobj\u001b[0m\u001b[0;34m.\u001b[0m\u001b[0mread\u001b[0m\u001b[0;34m(\u001b[0m\u001b[0mlen\u001b[0m\u001b[0;34m,\u001b[0m \u001b[0mbuffer\u001b[0m\u001b[0;34m)\u001b[0m\u001b[0;34m\u001b[0m\u001b[0m\n\u001b[0m\u001b[1;32m    872\u001b[0m         \u001b[0;32mexcept\u001b[0m \u001b[0mSSLError\u001b[0m \u001b[0;32mas\u001b[0m \u001b[0mx\u001b[0m\u001b[0;34m:\u001b[0m\u001b[0;34m\u001b[0m\u001b[0m\n\u001b[1;32m    873\u001b[0m             \u001b[0;32mif\u001b[0m \u001b[0mx\u001b[0m\u001b[0;34m.\u001b[0m\u001b[0margs\u001b[0m\u001b[0;34m[\u001b[0m\u001b[0;36m0\u001b[0m\u001b[0;34m]\u001b[0m \u001b[0;34m==\u001b[0m \u001b[0mSSL_ERROR_EOF\u001b[0m \u001b[0;32mand\u001b[0m \u001b[0mself\u001b[0m\u001b[0;34m.\u001b[0m\u001b[0msuppress_ragged_eofs\u001b[0m\u001b[0;34m:\u001b[0m\u001b[0;34m\u001b[0m\u001b[0m\n",
      "\u001b[0;32m/usr/local/Cellar/python/3.6.5/Frameworks/Python.framework/Versions/3.6/lib/python3.6/ssl.py\u001b[0m in \u001b[0;36mread\u001b[0;34m(self, len, buffer)\u001b[0m\n\u001b[1;32m    629\u001b[0m         \"\"\"\n\u001b[1;32m    630\u001b[0m         \u001b[0;32mif\u001b[0m \u001b[0mbuffer\u001b[0m \u001b[0;32mis\u001b[0m \u001b[0;32mnot\u001b[0m \u001b[0;32mNone\u001b[0m\u001b[0;34m:\u001b[0m\u001b[0;34m\u001b[0m\u001b[0m\n\u001b[0;32m--> 631\u001b[0;31m             \u001b[0mv\u001b[0m \u001b[0;34m=\u001b[0m \u001b[0mself\u001b[0m\u001b[0;34m.\u001b[0m\u001b[0m_sslobj\u001b[0m\u001b[0;34m.\u001b[0m\u001b[0mread\u001b[0m\u001b[0;34m(\u001b[0m\u001b[0mlen\u001b[0m\u001b[0;34m,\u001b[0m \u001b[0mbuffer\u001b[0m\u001b[0;34m)\u001b[0m\u001b[0;34m\u001b[0m\u001b[0m\n\u001b[0m\u001b[1;32m    632\u001b[0m         \u001b[0;32melse\u001b[0m\u001b[0;34m:\u001b[0m\u001b[0;34m\u001b[0m\u001b[0m\n\u001b[1;32m    633\u001b[0m             \u001b[0mv\u001b[0m \u001b[0;34m=\u001b[0m \u001b[0mself\u001b[0m\u001b[0;34m.\u001b[0m\u001b[0m_sslobj\u001b[0m\u001b[0;34m.\u001b[0m\u001b[0mread\u001b[0m\u001b[0;34m(\u001b[0m\u001b[0mlen\u001b[0m\u001b[0;34m)\u001b[0m\u001b[0;34m\u001b[0m\u001b[0m\n",
      "\u001b[0;31mKeyboardInterrupt\u001b[0m: "
     ]
    }
   ],
   "source": [
    "model_trans_VGG16_fixed = models.Sequential()\n",
    "trans_VGG16 = VGG16(weights='imagenet', include_top=False, input_shape=(224,224,3))\n",
    "model_trans_VGG16_fixed.add(trans_VGG16)\n",
    "model_trans_VGG16_fixed.add(layers.Flatten())\n",
    "model_trans_VGG16_fixed.add(layers.Dense(1024, activation='relu'))\n",
    "model_trans_VGG16_fixed.add(layers.BatchNormalization())\n",
    "model_trans_VGG16_fixed.add(layers.Dropout(0.25))\n",
    "model_trans_VGG16_fixed.add(layers.Dense(80, activation='softmax'))\n",
    "model_trans_VGG16.summary()"
   ]
  },
  {
   "cell_type": "code",
   "execution_count": 70,
   "metadata": {},
   "outputs": [],
   "source": [
    "for layer in trans_VGG16.layers:\n",
    "    layer.trainable = False"
   ]
  },
  {
   "cell_type": "code",
   "execution_count": 71,
   "metadata": {},
   "outputs": [
    {
     "name": "stdout",
     "output_type": "stream",
     "text": [
      "Epoch 1/20\n",
      "128/128 [==============================] - 22s 175ms/step - loss: 1.8802 - acc: 0.5679 - val_loss: 15.4686 - val_acc: 0.0144\n",
      "Epoch 2/20\n",
      "128/128 [==============================] - 22s 169ms/step - loss: 0.8344 - acc: 0.7957 - val_loss: 1.0645 - val_acc: 0.7388\n",
      "Epoch 3/20\n",
      "128/128 [==============================] - 22s 169ms/step - loss: 0.2392 - acc: 0.9530 - val_loss: 0.5374 - val_acc: 0.8744\n",
      "Epoch 4/20\n",
      "128/128 [==============================] - 22s 169ms/step - loss: 0.1732 - acc: 0.9653 - val_loss: 0.4585 - val_acc: 0.8919\n",
      "Epoch 5/20\n",
      "128/128 [==============================] - 22s 169ms/step - loss: 0.0819 - acc: 0.9919 - val_loss: 0.4189 - val_acc: 0.9006\n",
      "Epoch 6/20\n",
      "128/128 [==============================] - 22s 169ms/step - loss: 0.0573 - acc: 0.9941 - val_loss: 0.4057 - val_acc: 0.9056\n",
      "Epoch 7/20\n",
      "128/128 [==============================] - 22s 169ms/step - loss: 0.0387 - acc: 0.9971 - val_loss: 0.3952 - val_acc: 0.9031\n",
      "Epoch 8/20\n",
      "128/128 [==============================] - 22s 169ms/step - loss: 0.0302 - acc: 0.9983 - val_loss: 0.3919 - val_acc: 0.9025\n",
      "Epoch 9/20\n",
      "128/128 [==============================] - 22s 169ms/step - loss: 0.0207 - acc: 0.9995 - val_loss: 0.3869 - val_acc: 0.9044\n",
      "Epoch 10/20\n",
      "128/128 [==============================] - 22s 169ms/step - loss: 0.0178 - acc: 0.9995 - val_loss: 0.3797 - val_acc: 0.9050\n",
      "Epoch 11/20\n",
      "128/128 [==============================] - 22s 169ms/step - loss: 0.0135 - acc: 0.9998 - val_loss: 0.3818 - val_acc: 0.9050\n",
      "Epoch 12/20\n",
      "128/128 [==============================] - 22s 170ms/step - loss: 0.0101 - acc: 1.0000 - val_loss: 0.3826 - val_acc: 0.9062\n",
      "Epoch 13/20\n",
      "128/128 [==============================] - 22s 168ms/step - loss: 0.0132 - acc: 0.9995 - val_loss: 0.3867 - val_acc: 0.9050\n",
      "Epoch 14/20\n",
      "128/128 [==============================] - 22s 169ms/step - loss: 0.0087 - acc: 1.0000 - val_loss: 0.3850 - val_acc: 0.9038\n",
      "Epoch 15/20\n",
      "128/128 [==============================] - 22s 169ms/step - loss: 0.0099 - acc: 0.9995 - val_loss: 0.3861 - val_acc: 0.9062\n",
      "Epoch 16/20\n",
      "128/128 [==============================] - 22s 169ms/step - loss: 0.0070 - acc: 1.0000 - val_loss: 0.3861 - val_acc: 0.9069\n",
      "Epoch 17/20\n",
      "128/128 [==============================] - 22s 168ms/step - loss: 0.0097 - acc: 0.9998 - val_loss: 0.3845 - val_acc: 0.9038\n",
      "Epoch 18/20\n",
      "128/128 [==============================] - 22s 169ms/step - loss: 0.0056 - acc: 1.0000 - val_loss: 0.3865 - val_acc: 0.9038\n",
      "Epoch 19/20\n",
      "128/128 [==============================] - 22s 169ms/step - loss: 0.0065 - acc: 1.0000 - val_loss: 0.3841 - val_acc: 0.9038\n",
      "Epoch 20/20\n",
      "128/128 [==============================] - 22s 169ms/step - loss: 0.0047 - acc: 1.0000 - val_loss: 0.3857 - val_acc: 0.9031\n"
     ]
    }
   ],
   "source": [
    "model_trans_VGG16_fixed.compile(loss='categorical_crossentropy', optimizer=optimizers.Adagrad(lr=0.01), metrics=['acc'])\n",
    "history_trans_VGG16_fixed = model_trans_VGG16_fixed.fit_generator(train_generator_vgg16, \n",
    "                              steps_per_epoch=128, \n",
    "                              epochs=20, \n",
    "                              validation_data = val_generator_vgg16)"
   ]
  },
  {
   "cell_type": "code",
   "execution_count": 72,
   "metadata": {},
   "outputs": [],
   "source": [
    "acc = history_trans_VGG16_fixed.history['acc']\n",
    "val_acc = history_trans_VGG16_fixed.history['val_acc']\n",
    "loss = history_trans_VGG16_fixed.history['loss']\n",
    "val_loss = history_trans_VGG16_fixed.history['val_loss']\n",
    "\n",
    "epochs = range(1, len(acc)+1)"
   ]
  },
  {
   "cell_type": "code",
   "execution_count": 73,
   "metadata": {},
   "outputs": [
    {
     "data": {
      "text/plain": [
       "<matplotlib.legend.Legend at 0x2434c2d0dd8>"
      ]
     },
     "execution_count": 73,
     "metadata": {},
     "output_type": "execute_result"
    },
    {
     "data": {
      "image/png": "[encoded data removed]",
      "text/plain": [
       "<Figure size 432x288 with 1 Axes>"
      ]
     },
     "metadata": {},
     "output_type": "display_data"
    }
   ],
   "source": [
    "plt.plot(epochs, acc, label='Training Acc')\n",
    "plt.plot(epochs, val_acc, label='Validation Acc')\n",
    "plt.legend()"
   ]
  },
  {
   "cell_type": "code",
   "execution_count": 74,
   "metadata": {},
   "outputs": [
    {
     "data": {
      "text/plain": [
       "<matplotlib.legend.Legend at 0x24340067470>"
      ]
     },
     "execution_count": 74,
     "metadata": {},
     "output_type": "execute_result"
    },
    {
     "data": {
      "image/png": "[encoded data removed]",
      "text/plain": [
       "<Figure size 432x288 with 1 Axes>"
      ]
     },
     "metadata": {},
     "output_type": "display_data"
    }
   ],
   "source": [
    "plt.plot(epochs, acc, label='Training Acc')\n",
    "plt.plot(epochs, val_acc, label='Validation Acc')\n",
    "plt.legend()"
   ]
  },
  {
   "cell_type": "code",
   "execution_count": 75,
   "metadata": {},
   "outputs": [
    {
     "data": {
      "text/plain": [
       "[0.3866830364242196, 0.899375]"
      ]
     },
     "execution_count": 75,
     "metadata": {},
     "output_type": "execute_result"
    }
   ],
   "source": [
    "model_trans_VGG16_fixed.evaluate_generator(test_generator_vgg16)"
   ]
  },
  {
   "cell_type": "markdown",
   "metadata": {},
   "source": [
    "### 4.4 再加上数据扩充呢？"
   ]
  },
  {
   "cell_type": "code",
   "execution_count": 5,
   "metadata": {},
   "outputs": [
    {
     "name": "stdout",
     "output_type": "stream",
     "text": [
      "Found 8594 images belonging to 80 classes.\n"
     ]
    }
   ],
   "source": [
    "train_data_gen_aug = ImageDataGenerator(rescale=1./255,\n",
    "                                        horizontal_flip = True, \n",
    "                                        zoom_range = 0.1,\n",
    "                                       width_shift_range= 0.1,\n",
    "                                       height_shift_range=0.1,\n",
    "                                       shear_range=0.1,\n",
    "                                       rotation_range=5)\n",
    "train_generator_vgg16_aug = train_data_gen_aug.flow_from_directory(train_folder, \n",
    "                                                     target_size=(224, 224), \n",
    "                                                     batch_size=128, \n",
    "                                                     class_mode='categorical')"
   ]
  },
  {
   "cell_type": "code",
   "execution_count": 3,
   "metadata": {},
   "outputs": [
    {
     "name": "stdout",
     "output_type": "stream",
     "text": [
      "Downloading data from https://github.com/fchollet/deep-learning-models/releases/download/v0.1/vgg16_weights_tf_dim_ordering_tf_kernels_notop.h5\n",
      " 3801088/58889256 [>.............................] - ETA: 19s"
     ]
    },
    {
     "ename": "KeyboardInterrupt",
     "evalue": "",
     "output_type": "error",
     "traceback": [
      "\u001b[0;31m---------------------------------------------------------------------------\u001b[0m",
      "\u001b[0;31mKeyboardInterrupt\u001b[0m                         Traceback (most recent call last)",
      "\u001b[0;32m<ipython-input-3-4caf238d7b58>\u001b[0m in \u001b[0;36m<module>\u001b[0;34m()\u001b[0m\n\u001b[1;32m      1\u001b[0m \u001b[0mmodel_trans_VGG16_fixed_aug\u001b[0m \u001b[0;34m=\u001b[0m \u001b[0mmodels\u001b[0m\u001b[0;34m.\u001b[0m\u001b[0mSequential\u001b[0m\u001b[0;34m(\u001b[0m\u001b[0;34m)\u001b[0m\u001b[0;34m\u001b[0m\u001b[0m\n\u001b[0;32m----> 2\u001b[0;31m \u001b[0mtrans_VGG16\u001b[0m \u001b[0;34m=\u001b[0m \u001b[0mVGG16\u001b[0m\u001b[0;34m(\u001b[0m\u001b[0mweights\u001b[0m\u001b[0;34m=\u001b[0m\u001b[0;34m'imagenet'\u001b[0m\u001b[0;34m,\u001b[0m \u001b[0minclude_top\u001b[0m\u001b[0;34m=\u001b[0m\u001b[0;32mFalse\u001b[0m\u001b[0;34m,\u001b[0m \u001b[0minput_shape\u001b[0m\u001b[0;34m=\u001b[0m\u001b[0;34m(\u001b[0m\u001b[0;36m224\u001b[0m\u001b[0;34m,\u001b[0m\u001b[0;36m224\u001b[0m\u001b[0;34m,\u001b[0m\u001b[0;36m3\u001b[0m\u001b[0;34m)\u001b[0m\u001b[0;34m)\u001b[0m\u001b[0;34m\u001b[0m\u001b[0m\n\u001b[0m\u001b[1;32m      3\u001b[0m \u001b[0mmodel_trans_VGG16_fixed_aug\u001b[0m\u001b[0;34m.\u001b[0m\u001b[0madd\u001b[0m\u001b[0;34m(\u001b[0m\u001b[0mtrans_VGG16\u001b[0m\u001b[0;34m)\u001b[0m\u001b[0;34m\u001b[0m\u001b[0m\n\u001b[1;32m      4\u001b[0m \u001b[0mmodel_trans_VGG16_fixed_aug\u001b[0m\u001b[0;34m.\u001b[0m\u001b[0madd\u001b[0m\u001b[0;34m(\u001b[0m\u001b[0mlayers\u001b[0m\u001b[0;34m.\u001b[0m\u001b[0mFlatten\u001b[0m\u001b[0;34m(\u001b[0m\u001b[0;34m)\u001b[0m\u001b[0;34m)\u001b[0m\u001b[0;34m\u001b[0m\u001b[0m\n\u001b[1;32m      5\u001b[0m \u001b[0mmodel_trans_VGG16_fixed_aug\u001b[0m\u001b[0;34m.\u001b[0m\u001b[0madd\u001b[0m\u001b[0;34m(\u001b[0m\u001b[0mlayers\u001b[0m\u001b[0;34m.\u001b[0m\u001b[0mDense\u001b[0m\u001b[0;34m(\u001b[0m\u001b[0;36m1024\u001b[0m\u001b[0;34m,\u001b[0m \u001b[0mactivation\u001b[0m\u001b[0;34m=\u001b[0m\u001b[0;34m'relu'\u001b[0m\u001b[0;34m)\u001b[0m\u001b[0;34m)\u001b[0m\u001b[0;34m\u001b[0m\u001b[0m\n",
      "\u001b[0;32m/usr/local/lib/python3.6/site-packages/keras/applications/vgg16.py\u001b[0m in \u001b[0;36mVGG16\u001b[0;34m(include_top, weights, input_tensor, input_shape, pooling, classes)\u001b[0m\n\u001b[1;32m    173\u001b[0m                                     \u001b[0mWEIGHTS_PATH_NO_TOP\u001b[0m\u001b[0;34m,\u001b[0m\u001b[0;34m\u001b[0m\u001b[0m\n\u001b[1;32m    174\u001b[0m                                     \u001b[0mcache_subdir\u001b[0m\u001b[0;34m=\u001b[0m\u001b[0;34m'models'\u001b[0m\u001b[0;34m,\u001b[0m\u001b[0;34m\u001b[0m\u001b[0m\n\u001b[0;32m--> 175\u001b[0;31m                                     file_hash='6d6bbae143d832006294945121d1f1fc')\n\u001b[0m\u001b[1;32m    176\u001b[0m         \u001b[0mmodel\u001b[0m\u001b[0;34m.\u001b[0m\u001b[0mload_weights\u001b[0m\u001b[0;34m(\u001b[0m\u001b[0mweights_path\u001b[0m\u001b[0;34m)\u001b[0m\u001b[0;34m\u001b[0m\u001b[0m\n\u001b[1;32m    177\u001b[0m         \u001b[0;32mif\u001b[0m \u001b[0mK\u001b[0m\u001b[0;34m.\u001b[0m\u001b[0mbackend\u001b[0m\u001b[0;34m(\u001b[0m\u001b[0;34m)\u001b[0m \u001b[0;34m==\u001b[0m \u001b[0;34m'theano'\u001b[0m\u001b[0;34m:\u001b[0m\u001b[0;34m\u001b[0m\u001b[0m\n",
      "\u001b[0;32m/usr/local/lib/python3.6/site-packages/keras/utils/data_utils.py\u001b[0m in \u001b[0;36mget_file\u001b[0;34m(fname, origin, untar, md5_hash, file_hash, cache_subdir, hash_algorithm, extract, archive_format, cache_dir)\u001b[0m\n\u001b[1;32m    220\u001b[0m         \u001b[0;32mtry\u001b[0m\u001b[0;34m:\u001b[0m\u001b[0;34m\u001b[0m\u001b[0m\n\u001b[1;32m    221\u001b[0m             \u001b[0;32mtry\u001b[0m\u001b[0;34m:\u001b[0m\u001b[0;34m\u001b[0m\u001b[0m\n\u001b[0;32m--> 222\u001b[0;31m                 \u001b[0murlretrieve\u001b[0m\u001b[0;34m(\u001b[0m\u001b[0morigin\u001b[0m\u001b[0;34m,\u001b[0m \u001b[0mfpath\u001b[0m\u001b[0;34m,\u001b[0m \u001b[0mdl_progress\u001b[0m\u001b[0;34m)\u001b[0m\u001b[0;34m\u001b[0m\u001b[0m\n\u001b[0m\u001b[1;32m    223\u001b[0m             \u001b[0;32mexcept\u001b[0m \u001b[0mURLError\u001b[0m \u001b[0;32mas\u001b[0m \u001b[0me\u001b[0m\u001b[0;34m:\u001b[0m\u001b[0;34m\u001b[0m\u001b[0m\n\u001b[1;32m    224\u001b[0m                 \u001b[0;32mraise\u001b[0m \u001b[0mException\u001b[0m\u001b[0;34m(\u001b[0m\u001b[0merror_msg\u001b[0m\u001b[0;34m.\u001b[0m\u001b[0mformat\u001b[0m\u001b[0;34m(\u001b[0m\u001b[0morigin\u001b[0m\u001b[0;34m,\u001b[0m \u001b[0me\u001b[0m\u001b[0;34m.\u001b[0m\u001b[0merrno\u001b[0m\u001b[0;34m,\u001b[0m \u001b[0me\u001b[0m\u001b[0;34m.\u001b[0m\u001b[0mreason\u001b[0m\u001b[0;34m)\u001b[0m\u001b[0;34m)\u001b[0m\u001b[0;34m\u001b[0m\u001b[0m\n",
      "\u001b[0;32m/usr/local/Cellar/python/3.6.5/Frameworks/Python.framework/Versions/3.6/lib/python3.6/urllib/request.py\u001b[0m in \u001b[0;36murlretrieve\u001b[0;34m(url, filename, reporthook, data)\u001b[0m\n\u001b[1;32m    275\u001b[0m \u001b[0;34m\u001b[0m\u001b[0m\n\u001b[1;32m    276\u001b[0m             \u001b[0;32mwhile\u001b[0m \u001b[0;32mTrue\u001b[0m\u001b[0;34m:\u001b[0m\u001b[0;34m\u001b[0m\u001b[0m\n\u001b[0;32m--> 277\u001b[0;31m                 \u001b[0mblock\u001b[0m \u001b[0;34m=\u001b[0m \u001b[0mfp\u001b[0m\u001b[0;34m.\u001b[0m\u001b[0mread\u001b[0m\u001b[0;34m(\u001b[0m\u001b[0mbs\u001b[0m\u001b[0;34m)\u001b[0m\u001b[0;34m\u001b[0m\u001b[0m\n\u001b[0m\u001b[1;32m    278\u001b[0m                 \u001b[0;32mif\u001b[0m \u001b[0;32mnot\u001b[0m \u001b[0mblock\u001b[0m\u001b[0;34m:\u001b[0m\u001b[0;34m\u001b[0m\u001b[0m\n\u001b[1;32m    279\u001b[0m                     \u001b[0;32mbreak\u001b[0m\u001b[0;34m\u001b[0m\u001b[0m\n",
      "\u001b[0;32m/usr/local/Cellar/python/3.6.5/Frameworks/Python.framework/Versions/3.6/lib/python3.6/http/client.py\u001b[0m in \u001b[0;36mread\u001b[0;34m(self, amt)\u001b[0m\n\u001b[1;32m    447\u001b[0m             \u001b[0;31m# Amount is given, implement using readinto\u001b[0m\u001b[0;34m\u001b[0m\u001b[0;34m\u001b[0m\u001b[0m\n\u001b[1;32m    448\u001b[0m             \u001b[0mb\u001b[0m \u001b[0;34m=\u001b[0m \u001b[0mbytearray\u001b[0m\u001b[0;34m(\u001b[0m\u001b[0mamt\u001b[0m\u001b[0;34m)\u001b[0m\u001b[0;34m\u001b[0m\u001b[0m\n\u001b[0;32m--> 449\u001b[0;31m             \u001b[0mn\u001b[0m \u001b[0;34m=\u001b[0m \u001b[0mself\u001b[0m\u001b[0;34m.\u001b[0m\u001b[0mreadinto\u001b[0m\u001b[0;34m(\u001b[0m\u001b[0mb\u001b[0m\u001b[0;34m)\u001b[0m\u001b[0;34m\u001b[0m\u001b[0m\n\u001b[0m\u001b[1;32m    450\u001b[0m             \u001b[0;32mreturn\u001b[0m \u001b[0mmemoryview\u001b[0m\u001b[0;34m(\u001b[0m\u001b[0mb\u001b[0m\u001b[0;34m)\u001b[0m\u001b[0;34m[\u001b[0m\u001b[0;34m:\u001b[0m\u001b[0mn\u001b[0m\u001b[0;34m]\u001b[0m\u001b[0;34m.\u001b[0m\u001b[0mtobytes\u001b[0m\u001b[0;34m(\u001b[0m\u001b[0;34m)\u001b[0m\u001b[0;34m\u001b[0m\u001b[0m\n\u001b[1;32m    451\u001b[0m         \u001b[0;32melse\u001b[0m\u001b[0;34m:\u001b[0m\u001b[0;34m\u001b[0m\u001b[0m\n",
      "\u001b[0;32m/usr/local/Cellar/python/3.6.5/Frameworks/Python.framework/Versions/3.6/lib/python3.6/http/client.py\u001b[0m in \u001b[0;36mreadinto\u001b[0;34m(self, b)\u001b[0m\n\u001b[1;32m    491\u001b[0m         \u001b[0;31m# connection, and the user is reading more bytes than will be provided\u001b[0m\u001b[0;34m\u001b[0m\u001b[0;34m\u001b[0m\u001b[0m\n\u001b[1;32m    492\u001b[0m         \u001b[0;31m# (for example, reading in 1k chunks)\u001b[0m\u001b[0;34m\u001b[0m\u001b[0;34m\u001b[0m\u001b[0m\n\u001b[0;32m--> 493\u001b[0;31m         \u001b[0mn\u001b[0m \u001b[0;34m=\u001b[0m \u001b[0mself\u001b[0m\u001b[0;34m.\u001b[0m\u001b[0mfp\u001b[0m\u001b[0;34m.\u001b[0m\u001b[0mreadinto\u001b[0m\u001b[0;34m(\u001b[0m\u001b[0mb\u001b[0m\u001b[0;34m)\u001b[0m\u001b[0;34m\u001b[0m\u001b[0m\n\u001b[0m\u001b[1;32m    494\u001b[0m         \u001b[0;32mif\u001b[0m \u001b[0;32mnot\u001b[0m \u001b[0mn\u001b[0m \u001b[0;32mand\u001b[0m \u001b[0mb\u001b[0m\u001b[0;34m:\u001b[0m\u001b[0;34m\u001b[0m\u001b[0m\n\u001b[1;32m    495\u001b[0m             \u001b[0;31m# Ideally, we would raise IncompleteRead if the content-length\u001b[0m\u001b[0;34m\u001b[0m\u001b[0;34m\u001b[0m\u001b[0m\n",
      "\u001b[0;32m/usr/local/Cellar/python/3.6.5/Frameworks/Python.framework/Versions/3.6/lib/python3.6/socket.py\u001b[0m in \u001b[0;36mreadinto\u001b[0;34m(self, b)\u001b[0m\n\u001b[1;32m    584\u001b[0m         \u001b[0;32mwhile\u001b[0m \u001b[0;32mTrue\u001b[0m\u001b[0;34m:\u001b[0m\u001b[0;34m\u001b[0m\u001b[0m\n\u001b[1;32m    585\u001b[0m             \u001b[0;32mtry\u001b[0m\u001b[0;34m:\u001b[0m\u001b[0;34m\u001b[0m\u001b[0m\n\u001b[0;32m--> 586\u001b[0;31m                 \u001b[0;32mreturn\u001b[0m \u001b[0mself\u001b[0m\u001b[0;34m.\u001b[0m\u001b[0m_sock\u001b[0m\u001b[0;34m.\u001b[0m\u001b[0mrecv_into\u001b[0m\u001b[0;34m(\u001b[0m\u001b[0mb\u001b[0m\u001b[0;34m)\u001b[0m\u001b[0;34m\u001b[0m\u001b[0m\n\u001b[0m\u001b[1;32m    587\u001b[0m             \u001b[0;32mexcept\u001b[0m \u001b[0mtimeout\u001b[0m\u001b[0;34m:\u001b[0m\u001b[0;34m\u001b[0m\u001b[0m\n\u001b[1;32m    588\u001b[0m                 \u001b[0mself\u001b[0m\u001b[0;34m.\u001b[0m\u001b[0m_timeout_occurred\u001b[0m \u001b[0;34m=\u001b[0m \u001b[0;32mTrue\u001b[0m\u001b[0;34m\u001b[0m\u001b[0m\n",
      "\u001b[0;32m/usr/local/Cellar/python/3.6.5/Frameworks/Python.framework/Versions/3.6/lib/python3.6/ssl.py\u001b[0m in \u001b[0;36mrecv_into\u001b[0;34m(self, buffer, nbytes, flags)\u001b[0m\n\u001b[1;32m   1007\u001b[0m                   \u001b[0;34m\"non-zero flags not allowed in calls to recv_into() on %s\"\u001b[0m \u001b[0;34m%\u001b[0m\u001b[0;34m\u001b[0m\u001b[0m\n\u001b[1;32m   1008\u001b[0m                   self.__class__)\n\u001b[0;32m-> 1009\u001b[0;31m             \u001b[0;32mreturn\u001b[0m \u001b[0mself\u001b[0m\u001b[0;34m.\u001b[0m\u001b[0mread\u001b[0m\u001b[0;34m(\u001b[0m\u001b[0mnbytes\u001b[0m\u001b[0;34m,\u001b[0m \u001b[0mbuffer\u001b[0m\u001b[0;34m)\u001b[0m\u001b[0;34m\u001b[0m\u001b[0m\n\u001b[0m\u001b[1;32m   1010\u001b[0m         \u001b[0;32melse\u001b[0m\u001b[0;34m:\u001b[0m\u001b[0;34m\u001b[0m\u001b[0m\n\u001b[1;32m   1011\u001b[0m             \u001b[0;32mreturn\u001b[0m \u001b[0msocket\u001b[0m\u001b[0;34m.\u001b[0m\u001b[0mrecv_into\u001b[0m\u001b[0;34m(\u001b[0m\u001b[0mself\u001b[0m\u001b[0;34m,\u001b[0m \u001b[0mbuffer\u001b[0m\u001b[0;34m,\u001b[0m \u001b[0mnbytes\u001b[0m\u001b[0;34m,\u001b[0m \u001b[0mflags\u001b[0m\u001b[0;34m)\u001b[0m\u001b[0;34m\u001b[0m\u001b[0m\n",
      "\u001b[0;32m/usr/local/Cellar/python/3.6.5/Frameworks/Python.framework/Versions/3.6/lib/python3.6/ssl.py\u001b[0m in \u001b[0;36mread\u001b[0;34m(self, len, buffer)\u001b[0m\n\u001b[1;32m    869\u001b[0m             \u001b[0;32mraise\u001b[0m \u001b[0mValueError\u001b[0m\u001b[0;34m(\u001b[0m\u001b[0;34m\"Read on closed or unwrapped SSL socket.\"\u001b[0m\u001b[0;34m)\u001b[0m\u001b[0;34m\u001b[0m\u001b[0m\n\u001b[1;32m    870\u001b[0m         \u001b[0;32mtry\u001b[0m\u001b[0;34m:\u001b[0m\u001b[0;34m\u001b[0m\u001b[0m\n\u001b[0;32m--> 871\u001b[0;31m             \u001b[0;32mreturn\u001b[0m \u001b[0mself\u001b[0m\u001b[0;34m.\u001b[0m\u001b[0m_sslobj\u001b[0m\u001b[0;34m.\u001b[0m\u001b[0mread\u001b[0m\u001b[0;34m(\u001b[0m\u001b[0mlen\u001b[0m\u001b[0;34m,\u001b[0m \u001b[0mbuffer\u001b[0m\u001b[0;34m)\u001b[0m\u001b[0;34m\u001b[0m\u001b[0m\n\u001b[0m\u001b[1;32m    872\u001b[0m         \u001b[0;32mexcept\u001b[0m \u001b[0mSSLError\u001b[0m \u001b[0;32mas\u001b[0m \u001b[0mx\u001b[0m\u001b[0;34m:\u001b[0m\u001b[0;34m\u001b[0m\u001b[0m\n\u001b[1;32m    873\u001b[0m             \u001b[0;32mif\u001b[0m \u001b[0mx\u001b[0m\u001b[0;34m.\u001b[0m\u001b[0margs\u001b[0m\u001b[0;34m[\u001b[0m\u001b[0;36m0\u001b[0m\u001b[0;34m]\u001b[0m \u001b[0;34m==\u001b[0m \u001b[0mSSL_ERROR_EOF\u001b[0m \u001b[0;32mand\u001b[0m \u001b[0mself\u001b[0m\u001b[0;34m.\u001b[0m\u001b[0msuppress_ragged_eofs\u001b[0m\u001b[0;34m:\u001b[0m\u001b[0;34m\u001b[0m\u001b[0m\n",
      "\u001b[0;32m/usr/local/Cellar/python/3.6.5/Frameworks/Python.framework/Versions/3.6/lib/python3.6/ssl.py\u001b[0m in \u001b[0;36mread\u001b[0;34m(self, len, buffer)\u001b[0m\n\u001b[1;32m    629\u001b[0m         \"\"\"\n\u001b[1;32m    630\u001b[0m         \u001b[0;32mif\u001b[0m \u001b[0mbuffer\u001b[0m \u001b[0;32mis\u001b[0m \u001b[0;32mnot\u001b[0m \u001b[0;32mNone\u001b[0m\u001b[0;34m:\u001b[0m\u001b[0;34m\u001b[0m\u001b[0m\n\u001b[0;32m--> 631\u001b[0;31m             \u001b[0mv\u001b[0m \u001b[0;34m=\u001b[0m \u001b[0mself\u001b[0m\u001b[0;34m.\u001b[0m\u001b[0m_sslobj\u001b[0m\u001b[0;34m.\u001b[0m\u001b[0mread\u001b[0m\u001b[0;34m(\u001b[0m\u001b[0mlen\u001b[0m\u001b[0;34m,\u001b[0m \u001b[0mbuffer\u001b[0m\u001b[0;34m)\u001b[0m\u001b[0;34m\u001b[0m\u001b[0m\n\u001b[0m\u001b[1;32m    632\u001b[0m         \u001b[0;32melse\u001b[0m\u001b[0;34m:\u001b[0m\u001b[0;34m\u001b[0m\u001b[0m\n\u001b[1;32m    633\u001b[0m             \u001b[0mv\u001b[0m \u001b[0;34m=\u001b[0m \u001b[0mself\u001b[0m\u001b[0;34m.\u001b[0m\u001b[0m_sslobj\u001b[0m\u001b[0;34m.\u001b[0m\u001b[0mread\u001b[0m\u001b[0;34m(\u001b[0m\u001b[0mlen\u001b[0m\u001b[0;34m)\u001b[0m\u001b[0;34m\u001b[0m\u001b[0m\n",
      "\u001b[0;31mKeyboardInterrupt\u001b[0m: "
     ]
    }
   ],
   "source": [
    "model_trans_VGG16_fixed_aug = models.Sequential()\n",
    "trans_VGG16 = VGG16(weights='imagenet', include_top=False, input_shape=(224,224,3))\n",
    "model_trans_VGG16_fixed_aug.add(trans_VGG16)\n",
    "model_trans_VGG16_fixed_aug.add(layers.Flatten())\n",
    "model_trans_VGG16_fixed_aug.add(layers.Dense(1024, activation='relu'))\n",
    "model_trans_VGG16_fixed_aug.add(layers.BatchNormalization())\n",
    "model_trans_VGG16_fixed_aug.add(layers.Dropout(0.25))\n",
    "model_trans_VGG16_fixed_aug.add(layers.Dense(80, activation='softmax'))\n",
    "model_trans_VGG16_fixed_aug.summary()"
   ]
  },
  {
   "cell_type": "code",
   "execution_count": 8,
   "metadata": {},
   "outputs": [],
   "source": [
    "for layer in trans_VGG16.layers:\n",
    "    layer.trainable = False"
   ]
  },
  {
   "cell_type": "code",
   "execution_count": 9,
   "metadata": {},
   "outputs": [
    {
     "name": "stdout",
     "output_type": "stream",
     "text": [
      "Epoch 1/20\n",
      "128/128 [==============================] - 123s 958ms/step - loss: 1.2663 - acc: 0.6905 - val_loss: 1.4110 - val_acc: 0.6562\n",
      "Epoch 2/20\n",
      "128/128 [==============================] - 118s 924ms/step - loss: 0.4192 - acc: 0.8956 - val_loss: 0.6110 - val_acc: 0.8456\n",
      "Epoch 3/20\n",
      "128/128 [==============================] - 119s 931ms/step - loss: 0.2386 - acc: 0.9435 - val_loss: 0.4809 - val_acc: 0.8788\n",
      "Epoch 4/20\n",
      "128/128 [==============================] - 120s 939ms/step - loss: 0.1559 - acc: 0.9666 - val_loss: 0.4370 - val_acc: 0.8906\n",
      "Epoch 5/20\n",
      "128/128 [==============================] - 120s 936ms/step - loss: 0.1184 - acc: 0.9747 - val_loss: 0.4056 - val_acc: 0.9019\n",
      "Epoch 6/20\n",
      "128/128 [==============================] - 118s 926ms/step - loss: 0.0852 - acc: 0.9848 - val_loss: 0.3889 - val_acc: 0.9075\n",
      "Epoch 7/20\n",
      "128/128 [==============================] - 124s 965ms/step - loss: 0.0705 - acc: 0.9875 - val_loss: 0.3721 - val_acc: 0.9163\n",
      "Epoch 8/20\n",
      "128/128 [==============================] - 119s 932ms/step - loss: 0.0593 - acc: 0.9908 - val_loss: 0.3834 - val_acc: 0.9100\n",
      "Epoch 9/20\n",
      "128/128 [==============================] - 118s 924ms/step - loss: 0.0474 - acc: 0.9921 - val_loss: 0.3766 - val_acc: 0.9137\n",
      "Epoch 10/20\n",
      "128/128 [==============================] - 125s 980ms/step - loss: 0.0419 - acc: 0.9941 - val_loss: 0.3773 - val_acc: 0.9113\n",
      "Epoch 11/20\n",
      "128/128 [==============================] - 122s 951ms/step - loss: 0.0344 - acc: 0.9959 - val_loss: 0.3531 - val_acc: 0.9156\n",
      "Epoch 12/20\n",
      "128/128 [==============================] - 118s 924ms/step - loss: 0.0333 - acc: 0.9954 - val_loss: 0.3712 - val_acc: 0.9106\n",
      "Epoch 13/20\n",
      "128/128 [==============================] - 118s 923ms/step - loss: 0.0268 - acc: 0.9970 - val_loss: 0.3730 - val_acc: 0.9156\n",
      "Epoch 14/20\n",
      "128/128 [==============================] - 123s 961ms/step - loss: 0.0246 - acc: 0.9969 - val_loss: 0.3691 - val_acc: 0.9144\n",
      "Epoch 15/20\n",
      "128/128 [==============================] - 124s 970ms/step - loss: 0.0231 - acc: 0.9977 - val_loss: 0.3692 - val_acc: 0.9206\n",
      "Epoch 16/20\n",
      "128/128 [==============================] - 120s 939ms/step - loss: 0.0204 - acc: 0.9978 - val_loss: 0.3778 - val_acc: 0.9169\n",
      "Epoch 17/20\n",
      "128/128 [==============================] - 118s 921ms/step - loss: 0.0205 - acc: 0.9979 - val_loss: 0.3859 - val_acc: 0.9187\n",
      "Epoch 18/20\n",
      "128/128 [==============================] - 119s 929ms/step - loss: 0.0186 - acc: 0.9979 - val_loss: 0.3924 - val_acc: 0.9156\n",
      "Epoch 19/20\n",
      "128/128 [==============================] - 122s 951ms/step - loss: 0.0161 - acc: 0.9983 - val_loss: 0.3843 - val_acc: 0.9113\n",
      "Epoch 20/20\n",
      "128/128 [==============================] - 120s 935ms/step - loss: 0.0154 - acc: 0.9981 - val_loss: 0.3831 - val_acc: 0.9144\n"
     ]
    }
   ],
   "source": [
    "model_trans_VGG16_fixed_aug.compile(loss='categorical_crossentropy', optimizer=optimizers.Adagrad(lr=0.01), metrics=['acc'])\n",
    "history_trans_VGG16_fixed_aug = model_trans_VGG16_fixed_aug.fit_generator(train_generator_vgg16_aug, \n",
    "                              steps_per_epoch=128, \n",
    "                              epochs=20, \n",
    "                              validation_data = val_generator_vgg16)"
   ]
  },
  {
   "cell_type": "code",
   "execution_count": 10,
   "metadata": {},
   "outputs": [],
   "source": [
    "acc = history_trans_VGG16_fixed_aug.history['acc']\n",
    "val_acc = history_trans_VGG16_fixed_aug.history['val_acc']\n",
    "loss = history_trans_VGG16_fixed_aug.history['loss']\n",
    "val_loss = history_trans_VGG16_fixed_aug.history['val_loss']\n",
    "\n",
    "epochs = range(1, len(acc)+1)"
   ]
  },
  {
   "cell_type": "code",
   "execution_count": 11,
   "metadata": {},
   "outputs": [
    {
     "data": {
      "text/plain": [
       "<matplotlib.legend.Legend at 0x1c08548e0f0>"
      ]
     },
     "execution_count": 11,
     "metadata": {},
     "output_type": "execute_result"
    },
    {
     "data": {
      "image/png": "[encoded data removed]",
      "text/plain": [
       "<Figure size 432x288 with 1 Axes>"
      ]
     },
     "metadata": {},
     "output_type": "display_data"
    }
   ],
   "source": [
    "plt.plot(epochs, acc, label='Training Acc')\n",
    "plt.plot(epochs, val_acc, label='Validation Acc')\n",
    "plt.legend()"
   ]
  },
  {
   "cell_type": "code",
   "execution_count": 12,
   "metadata": {},
   "outputs": [
    {
     "data": {
      "text/plain": [
       "<matplotlib.legend.Legend at 0x1c08aa390f0>"
      ]
     },
     "execution_count": 12,
     "metadata": {},
     "output_type": "execute_result"
    },
    {
     "data": {
      "image/png": "[encoded data removed]",
      "text/plain": [
       "<Figure size 432x288 with 1 Axes>"
      ]
     },
     "metadata": {},
     "output_type": "display_data"
    }
   ],
   "source": [
    "plt.plot(epochs, acc, label='Training Acc')\n",
    "plt.plot(epochs, val_acc, label='Validation Acc')\n",
    "plt.legend()"
   ]
  },
  {
   "cell_type": "code",
   "execution_count": 20,
   "metadata": {},
   "outputs": [
    {
     "data": {
      "text/plain": [
       "[0.36915452539920807, 0.91625]"
      ]
     },
     "execution_count": 20,
     "metadata": {},
     "output_type": "execute_result"
    }
   ],
   "source": [
    "model_trans_VGG16_fixed_aug.evaluate_generator(test_generator_vgg16)"
   ]
  },
  {
   "cell_type": "markdown",
   "metadata": {},
   "source": [
    "### 4.5 分析\n",
    "\n",
    "1. 迁移学习提供了能力非常强大的特征提取器；\n",
    "\n",
    "2. Dropout和数据扩充有效缓解了过拟合的问题。"
   ]
  },
  {
   "cell_type": "markdown",
   "metadata": {},
   "source": [
    "## 5. 总结\n",
    "\n",
    "1. 自行搭建适合任务的网络：\n",
    "\n",
    "    1.1 根据奥卡姆剃刀原理，模型尽可能小；\n",
    "    \n",
    "    1.2 模型轻微过拟合，为后面的正则操作留有空间。\n",
    "    \n",
    "    \n",
    "2. 使用各种策略缓解过拟合：\n",
    "\n",
    "    2.1 Early Stopping\n",
    "    \n",
    "    2.2 Dropout\n",
    "    \n",
    "    \n",
    "3. 解决过拟合最有效的策略：数据扩充\n",
    "\n",
    "    3.1 分析数据集，确定扩充的有效策略；\n",
    "    \n",
    "    3.2 使用Keras自带生成器类添加数据扩充策略；\n",
    "    \n",
    "    3.3 必要时自己编写数据扩充策略。\n",
    "    \n",
    "    \n",
    "4. 迁移学习\n",
    "\n",
    "    4.1 确定适用任务的迁移学习模型；\n",
    "    \n",
    "    4.2 判断是否冻结一些层；\n",
    "    \n",
    "    4.3 必要时根据自行搭建的模型在ImageNet上训练迁移学习模型\n",
    "    \n",
    "    "
   ]
  },
  {
   "cell_type": "markdown",
   "metadata": {},
   "source": [
    "## 6. 练习\n",
    "\n",
    "使用上面介绍的策略或尽情的调整你的模型吧\n",
    "\n",
    "Hints：\n",
    "\n",
    "1. 更合理的网络结构：网络层数，节点数量，卷积、池化、全连接的搭配；\n",
    "2. 更好的缓解过拟合的策略：Dropout数量和位置，正则项\n",
    "2. 更合理的数据扩充策略；\n",
    "3. 更合适的迁移学习模型以及冻结策略；\n",
    "5. 者其它自己了解的其它优化方向的策略（例如自适应学习率，L1正则，Attention等）"
   ]
  },
  {
   "cell_type": "code",
   "execution_count": null,
   "metadata": {},
   "outputs": [],
   "source": []
  }
 ],
 "metadata": {
  "kernelspec": {
   "display_name": "Python 3",
   "language": "python",
   "name": "python3"
  },
  "language_info": {
   "codemirror_mode": {
    "name": "ipython",
    "version": 3
   },
   "file_extension": ".py",
   "mimetype": "text/x-python",
   "name": "python",
   "nbconvert_exporter": "python",
   "pygments_lexer": "ipython3",
   "version": "3.6.5"
  }
 },
 "nbformat": 4,
 "nbformat_minor": 2
}
